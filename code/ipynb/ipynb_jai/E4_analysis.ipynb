{
 "cells": [
  {
   "cell_type": "code",
   "execution_count": 22,
   "metadata": {},
   "outputs": [],
   "source": [
    "import pandas as pd\n",
    "import numpy as np\n",
    "import matplotlib.pyplot as plt\n",
    "import seaborn as sns\n",
    "import glob\n",
    "import os\n",
    "\n",
    "import sys\n",
    "from importlib import reload\n",
    "from sklearn.metrics import confusion_matrix\n",
    "import tensorflow as tf\n",
    "#import keras\n",
    "from scipy import stats\n",
    "import scipy.signal as scisig\n",
    "import scipy.stats\n",
    "import dalmatian\n",
    "from sklearn.metrics import f1_score, precision_score, recall_score\n",
    "import seaborn as sns\n",
    "#from tqdm.keras import TqdmCallback\n",
    "\n",
    "import keras\n",
    "from keras.models import Sequential\n",
    "from keras.layers import Dense, Dropout, Flatten, Reshape, GlobalAveragePooling1D\n",
    "from keras.layers import Conv1D, MaxPooling1D\n",
    "from keras.utils import np_utils\n",
    "from tensorflow.keras.callbacks import EarlyStopping\n",
    "import matplotlib.pyplot as plt\n",
    "import seaborn as sns\n",
    "from sklearn.metrics import confusion_matrix, accuracy_score\n",
    "\n",
    "from keras.layers import LSTM, Dense, Conv1D, TimeDistributed, Flatten, Activation, Dropout, Bidirectional\n",
    "from keras.callbacks import History, TensorBoard, Callback\n",
    "import keras.initializers as KI\n",
    "from keras.layers import BatchNormalization\n",
    "\n",
    "from sklearn.preprocessing import StandardScaler\n",
    "import scipy.stats as stats\n",
    "import tensorflow_addons as tfa\n",
    "from tqdm.keras import TqdmCallback"
   ]
  },
  {
   "cell_type": "code",
   "execution_count": 2,
   "metadata": {},
   "outputs": [],
   "source": [
    "def f(i):\n",
    "    return pd.read_csv(i, index_col=0)\n",
    "\n",
    "data_path = \"../../data/output/E4_mapped/\"\n",
    "output_path = \"../../data/output/E4_comb_mods/\"\n",
    "participants = [\"p\" + str(i).zfill(2) for i in range(1, 16) if i != 3 and i != 4]\n",
    "\n",
    "def participant_data(data):\n",
    "    \n",
    "    for p in participants:\n",
    "        files = [f for f in sorted(glob.glob(data_path + str(p) + \"/*\" + str(data) + \".csv\"))]\n",
    "        p_data = pd.concat(map(f, files), ignore_index=True)\n",
    "        #p_data.to_csv(output_path + str(p) + \"_\" + str(data) + '.csv')"
   ]
  },
  {
   "cell_type": "code",
   "execution_count": 22,
   "metadata": {},
   "outputs": [],
   "source": [
    "modalities = [\"ACC\", \"EDA\", \"TEMP\", \"BVP\", \"HR\"]\n",
    "for m in modalities:\n",
    "    participant_data(m)"
   ]
  },
  {
   "cell_type": "code",
   "execution_count": 32,
   "metadata": {},
   "outputs": [],
   "source": [
    "conf_matrix_list_of_arrays = []\n",
    "scores = []\n",
    "acc_per_fold = []\n",
    "loss_per_fold = []\n",
    "f1_per_fold = []\n",
    "prec_per_fold = []\n",
    "rec_per_fold = []\n",
    "\n",
    "def s(samples):\n",
    "    std = np.std(samples)\n",
    "    if std == 0:\n",
    "        return samples - np.mean(samples)\n",
    "    else:\n",
    "        return (samples - np.mean(samples)) / std\n",
    "\n",
    "acc_freq = 32\n",
    "eda_freq = 4\n",
    "temp_freq = 4\n",
    "bvp_freq = 64\n",
    "hr_freq = 1\n",
    "\n",
    "#sliding window - set window size and step size \n",
    "def create_window(pid, win_size=30, win_step=15, Binary=False):\n",
    "    \n",
    "    for f in os.listdir(output_path):\n",
    "        if f.startswith(str(pid)) and f.endswith(\"ACC.csv\"):\n",
    "            acc_path = f\n",
    "        elif f.startswith(str(pid)) and f.endswith(\"EDA.csv\"):\n",
    "            eda_path = f\n",
    "        elif f.startswith(str(pid)) and f.endswith(\"TEMP.csv\"):\n",
    "            temp_path = f\n",
    "        elif f.startswith(str(pid)) and f.endswith(\"BVP.csv\"):\n",
    "            bvp_path = f\n",
    "        elif f.startswith(str(pid)) and f.endswith(\"HR.csv\"):\n",
    "            hr_path = f\n",
    "    \n",
    "    acc_data = pd.read_csv(output_path + acc_path, index_col=0 )\n",
    "    eda_data = pd.read_csv(output_path + eda_path, index_col=0)\n",
    "    temp_data = pd.read_csv(output_path + temp_path, index_col=0)\n",
    "    bvp_data = pd.read_csv(output_path + bvp_path, index_col=0)\n",
    "    #hr_data = pd.read_csv(output_path + hr_path, index_col=0)\n",
    "\n",
    "    eda_data['interest'] = eda_data['interest'].replace([1,2,3,4], [0,1,2,3])\n",
    "    bvp_data['understand'] = bvp_data['understand'].replace([1,2,3,4], [0,1,2,3]) \n",
    "    \n",
    "    acc_x = []; acc_y = []; acc_z = []; eda = []; temp=[]; label=[]; bvp=[]; hr=[]; ut=[]; win_size = 30 ; win_step= 15; \n",
    "    total_time = int(len(eda_data) / eda_freq)\n",
    "\n",
    "    for i in range(win_size, total_time, win_step):\n",
    "\n",
    "        acc_x.append(s(acc_data[\"acc_x\"][acc_freq * (i - win_size): acc_freq * i]))\n",
    "        acc_y.append(s(acc_data[\"acc_y\"][acc_freq * (i - win_size): acc_freq * i]))\n",
    "        acc_z.append(s(acc_data[\"acc_z\"][acc_freq * (i - win_size): acc_freq * i]))\n",
    "\n",
    "        eda.append(s(eda_data[\"data\"][eda_freq * (i - win_size): eda_freq * i]))\n",
    "        temp.append(s(temp_data[\"data\"][temp_freq * (i - win_size): temp_freq * i]))\n",
    "        bvp.append(s(bvp_data[\"data\"][bvp_freq * (i - win_size): bvp_freq * i]))\n",
    "        #hr.append(s(hr_data[\"data\"][hr_freq * (i - win_size): hr_freq * i]))\n",
    "        ut.append(bvp_data[\"understand\"][bvp_freq * (i - win_size): bvp_freq * i])\n",
    "\n",
    "        l = stats.mode(eda_data[\"interest\"][eda_freq * (i - win_size): eda_freq * i])[0][0]\n",
    "        if Binary:\n",
    "            if(l == 0) | (l == 1):\n",
    "                l = 0\n",
    "                label.append(l)\n",
    "            else:\n",
    "                l = 1\n",
    "                label.append(l)\n",
    "        else:\n",
    "\n",
    "        #l_vote = np.bincount(np.array(l)).argmax()\n",
    "            label.append(l)\n",
    "\n",
    "\n",
    "    return {\n",
    "        \"label\": np.array(label),\n",
    "        \"acc_x\": np.array(acc_x), \n",
    "        \"acc_y\": np.array(acc_y), \n",
    "        \"acc_z\": np.array(acc_z),\n",
    "        \"eda\": np.array(eda),\n",
    "         \"bvp\": np.array(bvp), \n",
    "         \"temp\": np.array(temp),\n",
    "         \"ut\": np.array(ut)}"
   ]
  },
  {
   "cell_type": "code",
   "execution_count": 33,
   "metadata": {},
   "outputs": [],
   "source": [
    "def train(train_dataset, test_dataset):\n",
    "    models = []\n",
    "    for feature in [\"acc_x\", \"acc_y\", \"acc_z\", \"eda\", \"bvp\", \"temp\" ,\"ut\"]:\n",
    "    #for feature in [ \"bvp\", \"eda\", \"temp\", \"ut\"]:\n",
    "\n",
    "        input_size = train_dataset[feature].shape[1]\n",
    "        #filter_size = int(input_size / 10)  # hyper param\n",
    "        #filter_size = 3\n",
    "        input_layer = tf.keras.layers.Input(shape=(input_size, 1))\n",
    "        conv_layer_1 = tf.keras.layers.Conv1D(\n",
    "            50, 3, activation=\"relu\",\n",
    "            kernel_regularizer=tf.keras.regularizers.l2(1e-3))(input_layer)\n",
    "        conv_layer_2 = tf.keras.layers.Conv1D(\n",
    "            30, 3, activation=\"relu\",\n",
    "            kernel_regularizer=tf.keras.regularizers.l2(1e-3))(conv_layer_1)\n",
    "        conv_layer_3 = tf.keras.layers.Conv1D(\n",
    "            10, 3, activation=\"relu\",\n",
    "            kernel_regularizer=tf.keras.regularizers.l2(1e-3))(conv_layer_2)\n",
    "        pooling_layer = tf.keras.layers.GlobalAveragePooling1D()(conv_layer_3)\n",
    "        models.append(tf.keras.Model(inputs=input_layer, outputs=pooling_layer))\n",
    "\n",
    "    concat_layer = tf.keras.layers.concatenate([x.output for x in models])\n",
    "    dense_layer_1 = tf.keras.layers.Dense(128, activation=\"relu\")(concat_layer)\n",
    "    dense_layer_2 = tf.keras.layers.Dense(64, activation=\"relu\")(concat_layer)\n",
    "    output_layer = tf.keras.layers.Dense(1, activation=\"sigmoid\")(dense_layer_2)\n",
    "\n",
    "    model = tf.keras.Model(inputs=[x.input for x in models], outputs=output_layer)\n",
    "    model.compile(optimizer=tf.keras.optimizers.Adam(learning_rate=1e-4), loss=\"binary_crossentropy\", metrics=['accuracy'])\n",
    "\n",
    "    X_train = []; scalers = {}\n",
    "    for feature in [\"acc_x\", \"acc_y\", \"acc_z\", \"eda\", \"bvp\", \"temp\" ,\"ut\"]:\n",
    "    #for feature in [ \"bvp\", \"eda\", \"temp\", \"ut\"]:\n",
    "\n",
    "        # scalers[feature] = StandardScaler()\n",
    "        # scalers[feature].fit(train_dataset[feature])\n",
    "        # scaled = scalers[feature].transform(train_dataset[feature])\n",
    "        # X_train.append(np.reshape(scaled, (-1, scaled.shape[1], 1)))\n",
    "        X_train.append(np.reshape(train_dataset[feature], (-1, train_dataset[feature].shape[1], 1)))\n",
    "    y_train = train_dataset[\"label\"]\n",
    "\n",
    "    X_test = []\n",
    "    for feature in [\"acc_x\", \"acc_y\", \"acc_z\", \"eda\", \"bvp\", \"temp\" ,\"ut\"]:\n",
    "    #for feature in [ \"bvp\", \"eda\", \"temp\", \"ut\"]:\n",
    "\n",
    "        # scaled = scalers[feature].transform(test_dataset[feature])\n",
    "        # X_test.append(np.reshape(scaled, (-1, scaled.shape[1], 1)))\n",
    "        X_test.append(np.reshape(test_dataset[feature], (-1, test_dataset[feature].shape[1], 1)))\n",
    "    y_test = test_dataset[\"label\"]\n",
    "\n",
    "\n",
    "    history = model.fit(X_train, y_train, epochs=10, batch_size=512, validation_split=0.2, verbose=1)\n",
    "    scores = model.evaluate(X_test, y_test)\n",
    "    print(f'Score : {model.metrics_names[0]} of {scores[0]}; {model.metrics_names[1]} of {scores[1]*100}%')\n",
    "    acc_per_fold.append(scores[1])\n",
    "    loss_per_fold.append(scores[0])\n",
    "    \n",
    "    \n",
    "    y_pred = np.argmax(model.predict(X_test), axis=-1)\n",
    "    f1_per_fold.append(f1_score(y_test, y_pred, average='weighted'))\n",
    "    prec_per_fold.append(precision_score(y_test, y_pred, average='weighted'))\n",
    "    rec_per_fold.append(recall_score(y_test, y_pred, average='weighted'))\n",
    "    print('F1 score : ', f1_score(y_test, y_pred, average='weighted'))\n",
    "\n",
    "    # pd.DataFrame(history.history).plot(figsize=(8, 5))\n",
    "    # plt.show()\n",
    "\n",
    "    cm = confusion_matrix(y_test, y_pred, labels=[0,1])\n",
    "    print('Confusion Matrix : ')\n",
    "    print(cm)\n",
    "    \n",
    "    conf_matrix_list_of_arrays.append(cm)\n",
    "    return conf_matrix_list_of_arrays, acc_per_fold, f1_per_fold\n"
   ]
  },
  {
   "cell_type": "code",
   "execution_count": 34,
   "metadata": {},
   "outputs": [],
   "source": [
    "comb_data = [create_window(x, Binary=True) for x in participants]"
   ]
  },
  {
   "cell_type": "code",
   "execution_count": 35,
   "metadata": {},
   "outputs": [
    {
     "name": "stdout",
     "output_type": "stream",
     "text": [
      "Epoch 1/10\n",
      "5/5 [==============================] - 11s 2s/step - loss: 1.0724 - accuracy: 0.5343 - val_loss: 1.0649 - val_accuracy: 0.7113\n",
      "Epoch 2/10\n",
      "5/5 [==============================] - 8s 2s/step - loss: 1.0659 - accuracy: 0.6232 - val_loss: 1.0579 - val_accuracy: 0.6476\n",
      "Epoch 3/10\n",
      "5/5 [==============================] - 8s 2s/step - loss: 1.0602 - accuracy: 0.5950 - val_loss: 1.0514 - val_accuracy: 0.6166\n",
      "Epoch 4/10\n",
      "5/5 [==============================] - 8s 2s/step - loss: 1.0548 - accuracy: 0.5710 - val_loss: 1.0451 - val_accuracy: 0.6134\n",
      "Epoch 5/10\n",
      "5/5 [==============================] - 8s 2s/step - loss: 1.0494 - accuracy: 0.5575 - val_loss: 1.0390 - val_accuracy: 0.6134\n",
      "Epoch 6/10\n",
      "5/5 [==============================] - 8s 2s/step - loss: 1.0438 - accuracy: 0.5555 - val_loss: 1.0330 - val_accuracy: 0.6134\n",
      "Epoch 7/10\n",
      "5/5 [==============================] - 8s 2s/step - loss: 1.0382 - accuracy: 0.5591 - val_loss: 1.0270 - val_accuracy: 0.6134\n",
      "Epoch 8/10\n",
      "5/5 [==============================] - 8s 2s/step - loss: 1.0326 - accuracy: 0.5742 - val_loss: 1.0212 - val_accuracy: 0.6134\n",
      "Epoch 9/10\n",
      "5/5 [==============================] - 8s 2s/step - loss: 1.0272 - accuracy: 0.6044 - val_loss: 1.0156 - val_accuracy: 0.6134\n",
      "Epoch 10/10\n",
      "5/5 [==============================] - 9s 2s/step - loss: 1.0220 - accuracy: 0.6211 - val_loss: 1.0101 - val_accuracy: 0.6134\n",
      "7/7 [==============================] - 0s 29ms/step - loss: 0.9936 - accuracy: 0.7971\n",
      "Score : loss of 0.9936255812644958; accuracy of 79.71014380455017%\n",
      "7/7 [==============================] - 0s 26ms/step\n",
      "F1 score :  0.06844770385891392\n",
      "Confusion Matrix : \n",
      "[[ 42   0]\n",
      " [165   0]]\n"
     ]
    },
    {
     "name": "stderr",
     "output_type": "stream",
     "text": [
      "/Users/jai/opt/anaconda3/envs/dl/lib/python3.10/site-packages/sklearn/metrics/_classification.py:1327: UndefinedMetricWarning: Precision is ill-defined and being set to 0.0 in labels with no predicted samples. Use `zero_division` parameter to control this behavior.\n",
      "  _warn_prf(average, modifier, msg_start, len(result))\n"
     ]
    },
    {
     "name": "stdout",
     "output_type": "stream",
     "text": [
      "Epoch 1/10\n",
      "5/5 [==============================] - 10s 2s/step - loss: 1.0902 - accuracy: 0.4696 - val_loss: 1.0957 - val_accuracy: 0.3921\n",
      "Epoch 2/10\n",
      "5/5 [==============================] - 8s 1s/step - loss: 1.0814 - accuracy: 0.4696 - val_loss: 1.0848 - val_accuracy: 0.3921\n",
      "Epoch 3/10\n",
      "5/5 [==============================] - 8s 2s/step - loss: 1.0735 - accuracy: 0.4696 - val_loss: 1.0748 - val_accuracy: 0.3921\n",
      "Epoch 4/10\n",
      "5/5 [==============================] - 8s 2s/step - loss: 1.0661 - accuracy: 0.4760 - val_loss: 1.0653 - val_accuracy: 0.4161\n",
      "Epoch 5/10\n",
      "5/5 [==============================] - 8s 2s/step - loss: 1.0589 - accuracy: 0.6565 - val_loss: 1.0572 - val_accuracy: 0.7654\n",
      "Epoch 6/10\n",
      "5/5 [==============================] - 8s 2s/step - loss: 1.0524 - accuracy: 0.7238 - val_loss: 1.0497 - val_accuracy: 0.6969\n",
      "Epoch 7/10\n",
      "5/5 [==============================] - 8s 2s/step - loss: 1.0466 - accuracy: 0.6878 - val_loss: 1.0433 - val_accuracy: 0.6764\n",
      "Epoch 8/10\n",
      "5/5 [==============================] - 8s 2s/step - loss: 1.0414 - accuracy: 0.6728 - val_loss: 1.0371 - val_accuracy: 0.6370\n",
      "Epoch 9/10\n",
      "5/5 [==============================] - 8s 2s/step - loss: 1.0360 - accuracy: 0.6587 - val_loss: 1.0306 - val_accuracy: 0.6250\n",
      "Epoch 10/10\n",
      "5/5 [==============================] - 8s 2s/step - loss: 1.0304 - accuracy: 0.6552 - val_loss: 1.0239 - val_accuracy: 0.6199\n",
      "12/12 [==============================] - 0s 28ms/step - loss: 1.0130 - accuracy: 0.8483\n",
      "Score : loss of 1.0129503011703491; accuracy of 84.83145833015442%\n",
      "12/12 [==============================] - 1s 26ms/step\n"
     ]
    },
    {
     "name": "stderr",
     "output_type": "stream",
     "text": [
      "/Users/jai/opt/anaconda3/envs/dl/lib/python3.10/site-packages/sklearn/metrics/_classification.py:1327: UndefinedMetricWarning: Precision is ill-defined and being set to 0.0 in labels with no predicted samples. Use `zero_division` parameter to control this behavior.\n",
      "  _warn_prf(average, modifier, msg_start, len(result))\n"
     ]
    },
    {
     "name": "stdout",
     "output_type": "stream",
     "text": [
      "F1 score :  0.12984994247386844\n",
      "Confusion Matrix : \n",
      "[[103   0]\n",
      " [253   0]]\n",
      "Epoch 1/10\n",
      "5/5 [==============================] - 12s 2s/step - loss: 1.0780 - accuracy: 0.3583 - val_loss: 1.0748 - val_accuracy: 0.2781\n",
      "Epoch 2/10\n",
      "5/5 [==============================] - 8s 2s/step - loss: 1.0687 - accuracy: 0.5346 - val_loss: 1.0652 - val_accuracy: 0.6077\n",
      "Epoch 3/10\n",
      "5/5 [==============================] - 9s 2s/step - loss: 1.0606 - accuracy: 0.6832 - val_loss: 1.0571 - val_accuracy: 0.6222\n",
      "Epoch 4/10\n",
      "5/5 [==============================] - 8s 2s/step - loss: 1.0533 - accuracy: 0.6860 - val_loss: 1.0496 - val_accuracy: 0.6158\n",
      "Epoch 5/10\n",
      "5/5 [==============================] - 9s 2s/step - loss: 1.0463 - accuracy: 0.6896 - val_loss: 1.0419 - val_accuracy: 0.6190\n",
      "Epoch 6/10\n",
      "5/5 [==============================] - 9s 2s/step - loss: 1.0392 - accuracy: 0.6989 - val_loss: 1.0346 - val_accuracy: 0.6222\n",
      "Epoch 7/10\n",
      "5/5 [==============================] - 8s 2s/step - loss: 1.0325 - accuracy: 0.7049 - val_loss: 1.0277 - val_accuracy: 0.6206\n",
      "Epoch 8/10\n",
      "5/5 [==============================] - 9s 2s/step - loss: 1.0260 - accuracy: 0.6961 - val_loss: 1.0208 - val_accuracy: 0.6158\n",
      "Epoch 9/10\n",
      "5/5 [==============================] - 8s 2s/step - loss: 1.0195 - accuracy: 0.6872 - val_loss: 1.0138 - val_accuracy: 0.6125\n",
      "Epoch 10/10\n",
      "5/5 [==============================] - 9s 2s/step - loss: 1.0127 - accuracy: 0.6844 - val_loss: 1.0069 - val_accuracy: 0.6125\n",
      "6/6 [==============================] - 0s 25ms/step - loss: 0.9998 - accuracy: 0.6687\n",
      "Score : loss of 0.9997692704200745; accuracy of 66.86747074127197%\n",
      "6/6 [==============================] - 0s 26ms/step\n",
      "F1 score :  0.17553622561996862\n",
      "Confusion Matrix : \n",
      "[[ 57   0]\n",
      " [109   0]]\n"
     ]
    },
    {
     "name": "stderr",
     "output_type": "stream",
     "text": [
      "/Users/jai/opt/anaconda3/envs/dl/lib/python3.10/site-packages/sklearn/metrics/_classification.py:1327: UndefinedMetricWarning: Precision is ill-defined and being set to 0.0 in labels with no predicted samples. Use `zero_division` parameter to control this behavior.\n",
      "  _warn_prf(average, modifier, msg_start, len(result))\n"
     ]
    },
    {
     "name": "stdout",
     "output_type": "stream",
     "text": [
      "Epoch 1/10\n",
      "5/5 [==============================] - 11s 2s/step - loss: 1.0643 - accuracy: 0.5338 - val_loss: 1.0530 - val_accuracy: 0.6140\n",
      "Epoch 2/10\n",
      "5/5 [==============================] - 9s 2s/step - loss: 1.0590 - accuracy: 0.5338 - val_loss: 1.0473 - val_accuracy: 0.6140\n",
      "Epoch 3/10\n",
      "5/5 [==============================] - 8s 2s/step - loss: 1.0538 - accuracy: 0.5342 - val_loss: 1.0411 - val_accuracy: 0.6140\n",
      "Epoch 4/10\n",
      "5/5 [==============================] - 8s 2s/step - loss: 1.0483 - accuracy: 0.5342 - val_loss: 1.0342 - val_accuracy: 0.6140\n",
      "Epoch 5/10\n",
      "5/5 [==============================] - 8s 2s/step - loss: 1.0424 - accuracy: 0.5342 - val_loss: 1.0276 - val_accuracy: 0.6140\n",
      "Epoch 6/10\n",
      "5/5 [==============================] - 9s 2s/step - loss: 1.0363 - accuracy: 0.5350 - val_loss: 1.0209 - val_accuracy: 0.6140\n",
      "Epoch 7/10\n",
      "5/5 [==============================] - 8s 2s/step - loss: 1.0301 - accuracy: 0.5359 - val_loss: 1.0143 - val_accuracy: 0.6140\n",
      "Epoch 8/10\n",
      "5/5 [==============================] - 8s 2s/step - loss: 1.0237 - accuracy: 0.5518 - val_loss: 1.0076 - val_accuracy: 0.6140\n",
      "Epoch 9/10\n",
      "5/5 [==============================] - 9s 2s/step - loss: 1.0176 - accuracy: 0.5945 - val_loss: 1.0012 - val_accuracy: 0.6140\n",
      "Epoch 10/10\n",
      "5/5 [==============================] - 9s 2s/step - loss: 1.0113 - accuracy: 0.6316 - val_loss: 0.9942 - val_accuracy: 0.6140\n",
      "7/7 [==============================] - 0s 28ms/step - loss: 0.9605 - accuracy: 0.8873\n",
      "Score : loss of 0.9604740738868713; accuracy of 88.72548937797546%\n",
      "7/7 [==============================] - 1s 33ms/step\n",
      "F1 score :  0.08298039215686275\n",
      "Confusion Matrix : \n",
      "[[ 46   0]\n",
      " [158   0]]\n"
     ]
    },
    {
     "name": "stderr",
     "output_type": "stream",
     "text": [
      "/Users/jai/opt/anaconda3/envs/dl/lib/python3.10/site-packages/sklearn/metrics/_classification.py:1327: UndefinedMetricWarning: Precision is ill-defined and being set to 0.0 in labels with no predicted samples. Use `zero_division` parameter to control this behavior.\n",
      "  _warn_prf(average, modifier, msg_start, len(result))\n"
     ]
    },
    {
     "name": "stdout",
     "output_type": "stream",
     "text": [
      "Epoch 1/10\n",
      "5/5 [==============================] - 12s 2s/step - loss: 1.0775 - accuracy: 0.5592 - val_loss: 1.0736 - val_accuracy: 0.5824\n",
      "Epoch 2/10\n",
      "5/5 [==============================] - 9s 2s/step - loss: 1.0696 - accuracy: 0.5718 - val_loss: 1.0661 - val_accuracy: 0.6134\n",
      "Epoch 3/10\n",
      "5/5 [==============================] - 8s 2s/step - loss: 1.0631 - accuracy: 0.5718 - val_loss: 1.0593 - val_accuracy: 0.6134\n",
      "Epoch 4/10\n",
      "5/5 [==============================] - 8s 2s/step - loss: 1.0569 - accuracy: 0.5718 - val_loss: 1.0522 - val_accuracy: 0.6134\n",
      "Epoch 5/10\n",
      "5/5 [==============================] - 9s 2s/step - loss: 1.0508 - accuracy: 0.5718 - val_loss: 1.0449 - val_accuracy: 0.6134\n",
      "Epoch 6/10\n",
      "5/5 [==============================] - 8s 2s/step - loss: 1.0444 - accuracy: 0.5718 - val_loss: 1.0375 - val_accuracy: 0.6134\n",
      "Epoch 7/10\n",
      "5/5 [==============================] - 8s 2s/step - loss: 1.0381 - accuracy: 0.5718 - val_loss: 1.0309 - val_accuracy: 0.6134\n",
      "Epoch 8/10\n",
      "5/5 [==============================] - 8s 2s/step - loss: 1.0320 - accuracy: 0.5718 - val_loss: 1.0247 - val_accuracy: 0.6134\n",
      "Epoch 9/10\n",
      "5/5 [==============================] - 8s 2s/step - loss: 1.0261 - accuracy: 0.5718 - val_loss: 1.0188 - val_accuracy: 0.6134\n",
      "Epoch 10/10\n",
      "5/5 [==============================] - 9s 2s/step - loss: 1.0204 - accuracy: 0.5718 - val_loss: 1.0135 - val_accuracy: 0.6134\n",
      "7/7 [==============================] - 0s 26ms/step - loss: 1.0682 - accuracy: 0.3254\n",
      "Score : loss of 1.068216323852539; accuracy of 32.53588378429413%\n",
      "7/7 [==============================] - 0s 24ms/step\n",
      "F1 score :  0.5435680109364319\n",
      "Confusion Matrix : \n",
      "[[141   0]\n",
      " [ 68   0]]\n"
     ]
    },
    {
     "name": "stderr",
     "output_type": "stream",
     "text": [
      "/Users/jai/opt/anaconda3/envs/dl/lib/python3.10/site-packages/sklearn/metrics/_classification.py:1327: UndefinedMetricWarning: Precision is ill-defined and being set to 0.0 in labels with no predicted samples. Use `zero_division` parameter to control this behavior.\n",
      "  _warn_prf(average, modifier, msg_start, len(result))\n"
     ]
    },
    {
     "name": "stdout",
     "output_type": "stream",
     "text": [
      "Epoch 1/10\n",
      "5/5 [==============================] - 11s 2s/step - loss: 1.0695 - accuracy: 0.4645 - val_loss: 1.0660 - val_accuracy: 0.6967\n",
      "Epoch 2/10\n",
      "5/5 [==============================] - 8s 2s/step - loss: 1.0606 - accuracy: 0.7476 - val_loss: 1.0569 - val_accuracy: 0.6820\n",
      "Epoch 3/10\n",
      "5/5 [==============================] - 9s 2s/step - loss: 1.0527 - accuracy: 0.7009 - val_loss: 1.0483 - val_accuracy: 0.6115\n",
      "Epoch 4/10\n",
      "5/5 [==============================] - 9s 2s/step - loss: 1.0454 - accuracy: 0.6791 - val_loss: 1.0402 - val_accuracy: 0.6115\n",
      "Epoch 5/10\n",
      "5/5 [==============================] - 9s 2s/step - loss: 1.0385 - accuracy: 0.6783 - val_loss: 1.0324 - val_accuracy: 0.6115\n",
      "Epoch 6/10\n",
      "5/5 [==============================] - 8s 2s/step - loss: 1.0314 - accuracy: 0.6775 - val_loss: 1.0249 - val_accuracy: 0.6115\n",
      "Epoch 7/10\n",
      "5/5 [==============================] - 9s 2s/step - loss: 1.0243 - accuracy: 0.6771 - val_loss: 1.0172 - val_accuracy: 0.6115\n",
      "Epoch 8/10\n",
      "5/5 [==============================] - 8s 2s/step - loss: 1.0170 - accuracy: 0.6787 - val_loss: 1.0090 - val_accuracy: 0.6115\n",
      "Epoch 9/10\n",
      "5/5 [==============================] - 8s 2s/step - loss: 1.0094 - accuracy: 0.6787 - val_loss: 1.0005 - val_accuracy: 0.6115\n",
      "Epoch 10/10\n",
      "5/5 [==============================] - 8s 2s/step - loss: 1.0016 - accuracy: 0.6795 - val_loss: 0.9921 - val_accuracy: 0.6115\n",
      "8/8 [==============================] - 0s 26ms/step - loss: 0.9981 - accuracy: 0.5867\n",
      "Score : loss of 0.9981152415275574; accuracy of 58.666664361953735%\n",
      "8/8 [==============================] - 0s 26ms/step\n",
      "F1 score :  0.2417610062893082\n",
      "Confusion Matrix : \n",
      "[[ 93   0]\n",
      " [132   0]]\n"
     ]
    },
    {
     "name": "stderr",
     "output_type": "stream",
     "text": [
      "/Users/jai/opt/anaconda3/envs/dl/lib/python3.10/site-packages/sklearn/metrics/_classification.py:1327: UndefinedMetricWarning: Precision is ill-defined and being set to 0.0 in labels with no predicted samples. Use `zero_division` parameter to control this behavior.\n",
      "  _warn_prf(average, modifier, msg_start, len(result))\n"
     ]
    },
    {
     "name": "stdout",
     "output_type": "stream",
     "text": [
      "Epoch 1/10\n",
      "5/5 [==============================] - 11s 2s/step - loss: 1.0981 - accuracy: 0.3900 - val_loss: 1.0904 - val_accuracy: 0.3921\n",
      "Epoch 2/10\n",
      "5/5 [==============================] - 8s 2s/step - loss: 1.0874 - accuracy: 0.3887 - val_loss: 1.0811 - val_accuracy: 0.3887\n",
      "Epoch 3/10\n",
      "5/5 [==============================] - 8s 2s/step - loss: 1.0782 - accuracy: 0.3707 - val_loss: 1.0731 - val_accuracy: 0.3048\n",
      "Epoch 4/10\n",
      "5/5 [==============================] - 8s 2s/step - loss: 1.0696 - accuracy: 0.3108 - val_loss: 1.0658 - val_accuracy: 0.4503\n",
      "Epoch 5/10\n",
      "5/5 [==============================] - 7s 1s/step - loss: 1.0628 - accuracy: 0.5604 - val_loss: 1.0593 - val_accuracy: 0.6079\n",
      "Epoch 6/10\n",
      "5/5 [==============================] - 7s 1s/step - loss: 1.0567 - accuracy: 0.6100 - val_loss: 1.0535 - val_accuracy: 0.6079\n",
      "Epoch 7/10\n",
      "5/5 [==============================] - 8s 2s/step - loss: 1.0508 - accuracy: 0.6100 - val_loss: 1.0479 - val_accuracy: 0.6079\n",
      "Epoch 8/10\n",
      "5/5 [==============================] - 8s 2s/step - loss: 1.0449 - accuracy: 0.6100 - val_loss: 1.0421 - val_accuracy: 0.6079\n",
      "Epoch 9/10\n",
      "5/5 [==============================] - 8s 2s/step - loss: 1.0392 - accuracy: 0.6100 - val_loss: 1.0368 - val_accuracy: 0.6079\n",
      "Epoch 10/10\n",
      "5/5 [==============================] - 8s 2s/step - loss: 1.0340 - accuracy: 0.6100 - val_loss: 1.0315 - val_accuracy: 0.6079\n",
      "11/11 [==============================] - 0s 28ms/step - loss: 1.0764 - accuracy: 0.1847\n",
      "Score : loss of 1.076440691947937; accuracy of 18.465909361839294%\n",
      "11/11 [==============================] - 1s 41ms/step\n",
      "F1 score :  0.7324032579314269\n",
      "Confusion Matrix : \n",
      "[[287   0]\n",
      " [ 65   0]]\n"
     ]
    },
    {
     "name": "stderr",
     "output_type": "stream",
     "text": [
      "/Users/jai/opt/anaconda3/envs/dl/lib/python3.10/site-packages/sklearn/metrics/_classification.py:1327: UndefinedMetricWarning: Precision is ill-defined and being set to 0.0 in labels with no predicted samples. Use `zero_division` parameter to control this behavior.\n",
      "  _warn_prf(average, modifier, msg_start, len(result))\n"
     ]
    },
    {
     "name": "stdout",
     "output_type": "stream",
     "text": [
      "Epoch 1/10\n",
      "5/5 [==============================] - 12s 2s/step - loss: 1.0900 - accuracy: 0.4473 - val_loss: 1.0931 - val_accuracy: 0.3893\n",
      "Epoch 2/10\n",
      "5/5 [==============================] - 8s 2s/step - loss: 1.0793 - accuracy: 0.4473 - val_loss: 1.0807 - val_accuracy: 0.3893\n",
      "Epoch 3/10\n",
      "5/5 [==============================] - 8s 2s/step - loss: 1.0695 - accuracy: 0.4511 - val_loss: 1.0684 - val_accuracy: 0.4782\n",
      "Epoch 4/10\n",
      "5/5 [==============================] - 8s 2s/step - loss: 1.0603 - accuracy: 0.7001 - val_loss: 1.0580 - val_accuracy: 0.8507\n",
      "Epoch 5/10\n",
      "5/5 [==============================] - 8s 2s/step - loss: 1.0519 - accuracy: 0.8429 - val_loss: 1.0492 - val_accuracy: 0.7802\n",
      "Epoch 6/10\n",
      "5/5 [==============================] - 8s 2s/step - loss: 1.0434 - accuracy: 0.8341 - val_loss: 1.0402 - val_accuracy: 0.7668\n",
      "Epoch 7/10\n",
      "5/5 [==============================] - 9s 2s/step - loss: 1.0348 - accuracy: 0.8156 - val_loss: 1.0317 - val_accuracy: 0.7483\n",
      "Epoch 8/10\n",
      "5/5 [==============================] - 8s 2s/step - loss: 1.0265 - accuracy: 0.8013 - val_loss: 1.0237 - val_accuracy: 0.7399\n",
      "Epoch 9/10\n",
      "5/5 [==============================] - 8s 2s/step - loss: 1.0184 - accuracy: 0.7904 - val_loss: 1.0155 - val_accuracy: 0.7282\n",
      "Epoch 10/10\n",
      "5/5 [==============================] - 8s 2s/step - loss: 1.0101 - accuracy: 0.7896 - val_loss: 1.0071 - val_accuracy: 0.7265\n",
      "10/10 [==============================] - 0s 25ms/step - loss: 1.0233 - accuracy: 0.6000\n",
      "Score : loss of 1.02334463596344; accuracy of 60.00000238418579%\n",
      "10/10 [==============================] - 1s 25ms/step\n",
      "F1 score :  0.2695912263210369\n",
      "Confusion Matrix : \n",
      "[[130   0]\n",
      " [165   0]]\n"
     ]
    },
    {
     "name": "stderr",
     "output_type": "stream",
     "text": [
      "/Users/jai/opt/anaconda3/envs/dl/lib/python3.10/site-packages/sklearn/metrics/_classification.py:1327: UndefinedMetricWarning: Precision is ill-defined and being set to 0.0 in labels with no predicted samples. Use `zero_division` parameter to control this behavior.\n",
      "  _warn_prf(average, modifier, msg_start, len(result))\n"
     ]
    },
    {
     "name": "stdout",
     "output_type": "stream",
     "text": [
      "Epoch 1/10\n",
      "5/5 [==============================] - 11s 2s/step - loss: 1.0799 - accuracy: 0.4191 - val_loss: 1.0740 - val_accuracy: 0.5033\n",
      "Epoch 2/10\n",
      "5/5 [==============================] - 8s 2s/step - loss: 1.0711 - accuracy: 0.5128 - val_loss: 1.0638 - val_accuracy: 0.6089\n",
      "Epoch 3/10\n",
      "5/5 [==============================] - 9s 2s/step - loss: 1.0637 - accuracy: 0.5149 - val_loss: 1.0552 - val_accuracy: 0.6089\n",
      "Epoch 4/10\n",
      "5/5 [==============================] - 8s 2s/step - loss: 1.0574 - accuracy: 0.5149 - val_loss: 1.0493 - val_accuracy: 0.6089\n",
      "Epoch 5/10\n",
      "5/5 [==============================] - 8s 2s/step - loss: 1.0522 - accuracy: 0.5149 - val_loss: 1.0440 - val_accuracy: 0.6089\n",
      "Epoch 6/10\n",
      "5/5 [==============================] - 8s 2s/step - loss: 1.0471 - accuracy: 0.5149 - val_loss: 1.0386 - val_accuracy: 0.6089\n",
      "Epoch 7/10\n",
      "5/5 [==============================] - 8s 2s/step - loss: 1.0419 - accuracy: 0.5157 - val_loss: 1.0331 - val_accuracy: 0.6089\n",
      "Epoch 8/10\n",
      "5/5 [==============================] - 9s 2s/step - loss: 1.0365 - accuracy: 0.5235 - val_loss: 1.0273 - val_accuracy: 0.6089\n",
      "Epoch 9/10\n",
      "5/5 [==============================] - 8s 2s/step - loss: 1.0310 - accuracy: 0.5446 - val_loss: 1.0215 - val_accuracy: 0.6089\n",
      "Epoch 10/10\n",
      "5/5 [==============================] - 8s 2s/step - loss: 1.0254 - accuracy: 0.5821 - val_loss: 1.0155 - val_accuracy: 0.6089\n",
      "8/8 [==============================] - 0s 28ms/step - loss: 0.9593 - accuracy: 0.9421\n",
      "Score : loss of 0.9593150615692139; accuracy of 94.2148745059967%\n",
      "8/8 [==============================] - 1s 31ms/step\n",
      "F1 score :  0.006327479338842975\n",
      "Confusion Matrix : \n",
      "[[ 14   0]\n",
      " [228   0]]\n"
     ]
    },
    {
     "name": "stderr",
     "output_type": "stream",
     "text": [
      "/Users/jai/opt/anaconda3/envs/dl/lib/python3.10/site-packages/sklearn/metrics/_classification.py:1327: UndefinedMetricWarning: Precision is ill-defined and being set to 0.0 in labels with no predicted samples. Use `zero_division` parameter to control this behavior.\n",
      "  _warn_prf(average, modifier, msg_start, len(result))\n"
     ]
    },
    {
     "name": "stdout",
     "output_type": "stream",
     "text": [
      "Epoch 1/10\n",
      "5/5 [==============================] - 10s 2s/step - loss: 1.0574 - accuracy: 0.6392 - val_loss: 1.0490 - val_accuracy: 0.6052\n",
      "Epoch 2/10\n",
      "5/5 [==============================] - 8s 2s/step - loss: 1.0420 - accuracy: 0.6681 - val_loss: 1.0369 - val_accuracy: 0.6052\n",
      "Epoch 3/10\n",
      "5/5 [==============================] - 8s 2s/step - loss: 1.0288 - accuracy: 0.6901 - val_loss: 1.0269 - val_accuracy: 0.6052\n",
      "Epoch 4/10\n",
      "5/5 [==============================] - 8s 2s/step - loss: 1.0167 - accuracy: 0.7065 - val_loss: 1.0174 - val_accuracy: 0.6052\n",
      "Epoch 5/10\n",
      "5/5 [==============================] - 9s 2s/step - loss: 1.0050 - accuracy: 0.7208 - val_loss: 1.0079 - val_accuracy: 0.6052\n",
      "Epoch 6/10\n",
      "5/5 [==============================] - 8s 2s/step - loss: 0.9940 - accuracy: 0.7281 - val_loss: 0.9983 - val_accuracy: 0.6052\n",
      "Epoch 7/10\n",
      "5/5 [==============================] - 8s 2s/step - loss: 0.9830 - accuracy: 0.7298 - val_loss: 0.9886 - val_accuracy: 0.6052\n",
      "Epoch 8/10\n",
      "5/5 [==============================] - 8s 2s/step - loss: 0.9722 - accuracy: 0.7307 - val_loss: 0.9789 - val_accuracy: 0.6052\n",
      "Epoch 9/10\n",
      "5/5 [==============================] - 8s 2s/step - loss: 0.9612 - accuracy: 0.7311 - val_loss: 0.9695 - val_accuracy: 0.6052\n",
      "Epoch 10/10\n",
      "5/5 [==============================] - 8s 2s/step - loss: 0.9507 - accuracy: 0.7315 - val_loss: 0.9608 - val_accuracy: 0.6052\n",
      "12/12 [==============================] - 0s 29ms/step - loss: 1.1208 - accuracy: 0.3040\n",
      "Score : loss of 1.1208463907241821; accuracy of 30.399999022483826%\n",
      "12/12 [==============================] - 1s 29ms/step\n",
      "F1 score :  0.5712452830188679\n",
      "Confusion Matrix : \n",
      "[[261   0]\n",
      " [114   0]]\n"
     ]
    },
    {
     "name": "stderr",
     "output_type": "stream",
     "text": [
      "/Users/jai/opt/anaconda3/envs/dl/lib/python3.10/site-packages/sklearn/metrics/_classification.py:1327: UndefinedMetricWarning: Precision is ill-defined and being set to 0.0 in labels with no predicted samples. Use `zero_division` parameter to control this behavior.\n",
      "  _warn_prf(average, modifier, msg_start, len(result))\n"
     ]
    },
    {
     "name": "stdout",
     "output_type": "stream",
     "text": [
      "Epoch 1/10\n",
      "5/5 [==============================] - 12s 2s/step - loss: 1.0607 - accuracy: 0.5902 - val_loss: 1.0673 - val_accuracy: 0.4863\n",
      "Epoch 2/10\n",
      "5/5 [==============================] - 9s 2s/step - loss: 1.0510 - accuracy: 0.5898 - val_loss: 1.0633 - val_accuracy: 0.4863\n",
      "Epoch 3/10\n",
      "5/5 [==============================] - 8s 2s/step - loss: 1.0415 - accuracy: 0.5902 - val_loss: 1.0587 - val_accuracy: 0.4863\n",
      "Epoch 4/10\n",
      "5/5 [==============================] - 8s 2s/step - loss: 1.0324 - accuracy: 0.5958 - val_loss: 1.0535 - val_accuracy: 0.4863\n",
      "Epoch 5/10\n",
      "5/5 [==============================] - 8s 2s/step - loss: 1.0234 - accuracy: 0.6035 - val_loss: 1.0486 - val_accuracy: 0.4863\n",
      "Epoch 6/10\n",
      "5/5 [==============================] - 9s 2s/step - loss: 1.0150 - accuracy: 0.6107 - val_loss: 1.0441 - val_accuracy: 0.4863\n",
      "Epoch 7/10\n",
      "5/5 [==============================] - 8s 2s/step - loss: 1.0062 - accuracy: 0.6244 - val_loss: 1.0395 - val_accuracy: 0.4863\n",
      "Epoch 8/10\n",
      "5/5 [==============================] - 8s 2s/step - loss: 0.9974 - accuracy: 0.6469 - val_loss: 1.0350 - val_accuracy: 0.4863\n",
      "Epoch 9/10\n",
      "5/5 [==============================] - 8s 2s/step - loss: 0.9884 - accuracy: 0.6711 - val_loss: 1.0307 - val_accuracy: 0.4863\n",
      "Epoch 10/10\n",
      "5/5 [==============================] - 8s 2s/step - loss: 0.9795 - accuracy: 0.6888 - val_loss: 1.0265 - val_accuracy: 0.4863\n",
      "6/6 [==============================] - 0s 25ms/step - loss: 0.9782 - accuracy: 0.6048\n",
      "Score : loss of 0.9781919121742249; accuracy of 60.47903895378113%\n",
      "6/6 [==============================] - 0s 24ms/step\n",
      "F1 score :  0.22389555652643214\n",
      "Confusion Matrix : \n",
      "[[ 66   0]\n",
      " [101   0]]\n"
     ]
    },
    {
     "name": "stderr",
     "output_type": "stream",
     "text": [
      "/Users/jai/opt/anaconda3/envs/dl/lib/python3.10/site-packages/sklearn/metrics/_classification.py:1327: UndefinedMetricWarning: Precision is ill-defined and being set to 0.0 in labels with no predicted samples. Use `zero_division` parameter to control this behavior.\n",
      "  _warn_prf(average, modifier, msg_start, len(result))\n"
     ]
    },
    {
     "name": "stdout",
     "output_type": "stream",
     "text": [
      "Epoch 1/10\n",
      "5/5 [==============================] - 10s 2s/step - loss: 1.0491 - accuracy: 0.6400 - val_loss: 1.0704 - val_accuracy: 0.4104\n",
      "Epoch 2/10\n",
      "5/5 [==============================] - 8s 2s/step - loss: 1.0396 - accuracy: 0.6563 - val_loss: 1.0701 - val_accuracy: 0.4104\n",
      "Epoch 3/10\n",
      "5/5 [==============================] - 8s 2s/step - loss: 1.0305 - accuracy: 0.6790 - val_loss: 1.0695 - val_accuracy: 0.4104\n",
      "Epoch 4/10\n",
      "5/5 [==============================] - 8s 2s/step - loss: 1.0220 - accuracy: 0.6911 - val_loss: 1.0687 - val_accuracy: 0.4104\n",
      "Epoch 5/10\n",
      "5/5 [==============================] - 8s 2s/step - loss: 1.0135 - accuracy: 0.7045 - val_loss: 1.0671 - val_accuracy: 0.4104\n",
      "Epoch 6/10\n",
      "5/5 [==============================] - 8s 2s/step - loss: 1.0049 - accuracy: 0.7108 - val_loss: 1.0652 - val_accuracy: 0.4104\n",
      "Epoch 7/10\n",
      "5/5 [==============================] - 8s 2s/step - loss: 0.9963 - accuracy: 0.7125 - val_loss: 1.0631 - val_accuracy: 0.4104\n",
      "Epoch 8/10\n",
      "5/5 [==============================] - 8s 2s/step - loss: 0.9876 - accuracy: 0.7146 - val_loss: 1.0605 - val_accuracy: 0.4104\n",
      "Epoch 9/10\n",
      "5/5 [==============================] - 9s 2s/step - loss: 0.9788 - accuracy: 0.7175 - val_loss: 1.0577 - val_accuracy: 0.4104\n",
      "Epoch 10/10\n",
      "5/5 [==============================] - 8s 2s/step - loss: 0.9697 - accuracy: 0.7184 - val_loss: 1.0540 - val_accuracy: 0.4104\n",
      "10/10 [==============================] - 0s 26ms/step - loss: 0.9359 - accuracy: 0.7024\n",
      "Score : loss of 0.9359211921691895; accuracy of 70.24221420288086%\n",
      "10/10 [==============================] - 1s 24ms/step\n",
      "F1 score :  0.13648904267589387\n",
      "Confusion Matrix : \n",
      "[[ 86   0]\n",
      " [203   0]]\n"
     ]
    },
    {
     "name": "stderr",
     "output_type": "stream",
     "text": [
      "/Users/jai/opt/anaconda3/envs/dl/lib/python3.10/site-packages/sklearn/metrics/_classification.py:1327: UndefinedMetricWarning: Precision is ill-defined and being set to 0.0 in labels with no predicted samples. Use `zero_division` parameter to control this behavior.\n",
      "  _warn_prf(average, modifier, msg_start, len(result))\n"
     ]
    },
    {
     "name": "stdout",
     "output_type": "stream",
     "text": [
      "Epoch 1/10\n",
      "5/5 [==============================] - 11s 2s/step - loss: 1.0392 - accuracy: 0.5840 - val_loss: 1.0498 - val_accuracy: 0.5210\n",
      "Epoch 2/10\n",
      "5/5 [==============================] - 8s 2s/step - loss: 1.0275 - accuracy: 0.5832 - val_loss: 1.0454 - val_accuracy: 0.5210\n",
      "Epoch 3/10\n",
      "5/5 [==============================] - 8s 2s/step - loss: 1.0176 - accuracy: 0.5832 - val_loss: 1.0410 - val_accuracy: 0.5210\n",
      "Epoch 4/10\n",
      "5/5 [==============================] - 8s 2s/step - loss: 1.0080 - accuracy: 0.5828 - val_loss: 1.0367 - val_accuracy: 0.5210\n",
      "Epoch 5/10\n",
      "5/5 [==============================] - 8s 2s/step - loss: 0.9995 - accuracy: 0.5844 - val_loss: 1.0324 - val_accuracy: 0.5210\n",
      "Epoch 6/10\n",
      "5/5 [==============================] - 8s 2s/step - loss: 0.9909 - accuracy: 0.5905 - val_loss: 1.0280 - val_accuracy: 0.5210\n",
      "Epoch 7/10\n",
      "5/5 [==============================] - 8s 2s/step - loss: 0.9823 - accuracy: 0.6181 - val_loss: 1.0235 - val_accuracy: 0.5210\n",
      "Epoch 8/10\n",
      "5/5 [==============================] - 8s 2s/step - loss: 0.9738 - accuracy: 0.6679 - val_loss: 1.0187 - val_accuracy: 0.5210\n",
      "Epoch 9/10\n",
      "5/5 [==============================] - 8s 2s/step - loss: 0.9650 - accuracy: 0.6987 - val_loss: 1.0137 - val_accuracy: 0.5210\n",
      "Epoch 10/10\n",
      "5/5 [==============================] - 8s 2s/step - loss: 0.9559 - accuracy: 0.7027 - val_loss: 1.0080 - val_accuracy: 0.5210\n",
      "6/6 [==============================] - 0s 27ms/step - loss: 1.0431 - accuracy: 0.4541\n",
      "Score : loss of 1.0431172847747803; accuracy of 45.4054057598114%\n",
      "6/6 [==============================] - 0s 27ms/step\n",
      "F1 score :  0.3855981855981856\n",
      "Confusion Matrix : \n",
      "[[101   0]\n",
      " [ 84   0]]\n"
     ]
    },
    {
     "name": "stderr",
     "output_type": "stream",
     "text": [
      "/Users/jai/opt/anaconda3/envs/dl/lib/python3.10/site-packages/sklearn/metrics/_classification.py:1327: UndefinedMetricWarning: Precision is ill-defined and being set to 0.0 in labels with no predicted samples. Use `zero_division` parameter to control this behavior.\n",
      "  _warn_prf(average, modifier, msg_start, len(result))\n"
     ]
    }
   ],
   "source": [
    "for test_p in range(len(comb_data)):\n",
    "    train_data = {}\n",
    "    train_data[\"acc_x\"] = np.concatenate([comb_data[i][\"acc_x\"] for i in range(len(comb_data)) if i != test_p])\n",
    "    train_data[\"acc_y\"] = np.concatenate([comb_data[i][\"acc_y\"] for i in range(len(comb_data)) if i != test_p])\n",
    "    train_data[\"acc_z\"] = np.concatenate([comb_data[i][\"acc_z\"] for i in range(len(comb_data)) if i != test_p])\n",
    "    train_data[\"eda\"] = np.concatenate([comb_data[i][\"eda\"] for i in range(len(comb_data)) if i != test_p])\n",
    "    train_data[\"bvp\"] = np.concatenate([comb_data[i][\"bvp\"] for i in range(len(comb_data)) if i != test_p])\n",
    "    train_data[\"temp\"] = np.concatenate([comb_data[i][\"temp\"] for i in range(len(comb_data)) if i != test_p])\n",
    "    train_data[\"ut\"] = np.concatenate([comb_data[i][\"ut\"] for i in range(len(comb_data)) if i != test_p])\n",
    "\n",
    "    train_data[\"label\"] = np.concatenate([comb_data[i][\"label\"] for i in range(len(comb_data)) if i != test_p])\n",
    "\n",
    "    test_data = comb_data[test_p]\n",
    "    cmf, acc, f1 = train(train_data, test_data)"
   ]
  },
  {
   "cell_type": "code",
   "execution_count": 38,
   "metadata": {},
   "outputs": [
    {
     "data": {
      "text/plain": [
       "0.6081111958393683"
      ]
     },
     "execution_count": 38,
     "metadata": {},
     "output_type": "execute_result"
    }
   ],
   "source": [
    "np.mean(acc)"
   ]
  },
  {
   "cell_type": "code",
   "execution_count": 37,
   "metadata": {},
   "outputs": [
    {
     "data": {
      "text/plain": [
       "[0.7971014380455017,\n",
       " 0.8483145833015442,\n",
       " 0.6686747074127197,\n",
       " 0.8872548937797546,\n",
       " 0.3253588378429413,\n",
       " 0.5866666436195374,\n",
       " 0.18465909361839294,\n",
       " 0.6000000238418579,\n",
       " 0.942148745059967,\n",
       " 0.30399999022483826,\n",
       " 0.6047903895378113,\n",
       " 0.7024221420288086,\n",
       " 0.454054057598114]"
      ]
     },
     "execution_count": 37,
     "metadata": {},
     "output_type": "execute_result"
    }
   ],
   "source": [
    "acc"
   ]
  },
  {
   "cell_type": "code",
   "execution_count": 24,
   "metadata": {},
   "outputs": [
    {
     "data": {
      "text/plain": [
       "[0.7971014380455017,\n",
       " 0.7106741666793823,\n",
       " 0.6566265225410461,\n",
       " 0.7745097875595093,\n",
       " 0.3253588378429413,\n",
       " 0.5866666436195374,\n",
       " 0.18465909361839294,\n",
       " 0.5593220591545105,\n",
       " 0.942148745059967,\n",
       " 0.30399999022483826,\n",
       " 0.6047903895378113,\n",
       " 0.7024221420288086,\n",
       " 0.454054057598114]"
      ]
     },
     "execution_count": 24,
     "metadata": {},
     "output_type": "execute_result"
    }
   ],
   "source": [
    "acc"
   ]
  },
  {
   "cell_type": "code",
   "execution_count": null,
   "metadata": {},
   "outputs": [],
   "source": []
  }
 ],
 "metadata": {
  "kernelspec": {
   "display_name": "Python 3 (ipykernel)",
   "language": "python",
   "name": "python3"
  },
  "language_info": {
   "codemirror_mode": {
    "name": "ipython",
    "version": 3
   },
   "file_extension": ".py",
   "mimetype": "text/x-python",
   "name": "python",
   "nbconvert_exporter": "python",
   "pygments_lexer": "ipython3",
   "version": "3.10.4 (main, Mar 31 2022, 03:38:35) [Clang 12.0.0 ]"
  },
  "vscode": {
   "interpreter": {
    "hash": "a8ca9641ebcb14ca418d0fc8eda1f64105029c9870efd9f72e7a1b3e4a001b22"
   }
  }
 },
 "nbformat": 4,
 "nbformat_minor": 4
}
