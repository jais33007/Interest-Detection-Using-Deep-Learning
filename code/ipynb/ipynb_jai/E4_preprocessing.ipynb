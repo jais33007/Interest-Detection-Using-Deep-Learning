{
 "cells": [
  {
   "cell_type": "code",
   "execution_count": 1,
   "metadata": {},
   "outputs": [],
   "source": [
    "import pandas as pd\n",
    "import numpy as np\n",
    "import matplotlib.pyplot as plt\n",
    "import seaborn as sns\n",
    "import glob\n",
    "import os"
   ]
  },
  {
   "cell_type": "code",
   "execution_count": 99,
   "metadata": {},
   "outputs": [],
   "source": [
    "input_path = \"../../data/input/e4/\"\n",
    "output_path = \"../../data/output/\"\n",
    "working_path = \"../../data/working/\""
   ]
  },
  {
   "cell_type": "code",
   "execution_count": 2,
   "metadata": {},
   "outputs": [],
   "source": [
    "#adding timestamps per sample for all modalities\n",
    "step_eda = 0.25\n",
    "step_temp = 0.25\n",
    "step_bvp = 0.015625\n",
    "step_acc = 0.03125\n",
    "step_hr = 1.0\n",
    "\n",
    "def eda_timestamps(eda):\n",
    "    ini_time_eda = eda[0].iat[0]\n",
    "\n",
    "    eda[\"timestamp\"] = np.arange(ini_time_eda, ini_time_eda+len(eda)*step_eda, step_eda)\n",
    "    eda[\"timestamp\"] = eda[\"timestamp\"].shift(2)\n",
    "    eda = eda.iloc[2:]\n",
    "    eda = eda.reset_index(drop=True)\n",
    "    eda.columns = ['data', 'timestamp']\n",
    "    return eda\n",
    "\n",
    "def temp_timestamps(temp):\n",
    "    ini_time_temp = temp[0].iat[0]\n",
    "\n",
    "    temp[\"timestamp\"] = np.arange(ini_time_temp, ini_time_temp+len(temp)*step_temp, step_temp)\n",
    "    temp[\"timestamp\"] = temp[\"timestamp\"].shift(2)\n",
    "    temp = temp.iloc[2:]\n",
    "    temp = temp.reset_index(drop=True)\n",
    "    temp.columns = [\"data\", \"timestamp\"]\n",
    "    return temp\n",
    "    \n",
    "def bvp_timestamps(bvp):\n",
    "    ini_time_bvp = bvp[0].iat[0]\n",
    "\n",
    "    bvp[\"timestamp\"] = np.arange(ini_time_bvp, ini_time_bvp+len(bvp)*step_bvp, step_bvp)\n",
    "    bvp[\"timestamp\"] = bvp[\"timestamp\"].shift(2)\n",
    "    bvp = bvp.iloc[2:]\n",
    "    bvp = bvp.reset_index(drop=True)\n",
    "    bvp.columns = [\"data\", \"timestamp\"]\n",
    "    return bvp\n",
    "    \n",
    "def hr_timestamps(hr):\n",
    "    ini_time_hr = hr[0].iat[0]\n",
    "\n",
    "    hr[\"timestamp\"] = np.arange(ini_time_hr, ini_time_hr+len(hr)*step_hr, step_hr)\n",
    "    hr[\"timestamp\"] = hr[\"timestamp\"].shift(2)\n",
    "    hr = hr.iloc[2:]\n",
    "    hr = hr.reset_index(drop=True)\n",
    "    hr.columns = [\"data\", \"timestamp\"]\n",
    "    return hr\n",
    "\n",
    "def acc_timestamps(acc):\n",
    "    ini_time_acc = acc[0].iat[0]\n",
    "\n",
    "    acc[\"timestamp\"] = np.arange(ini_time_acc, ini_time_acc+len(acc)*step_acc, step_acc)\n",
    "    acc[\"timestamp\"] = acc[\"timestamp\"].shift(2)\n",
    "    acc = acc.iloc[2:]\n",
    "    acc = acc.reset_index(drop=True)\n",
    "    acc.columns = [\"acc_x\",\"acc_y\",\"acc_z\", \"timestamp\"]\n",
    "    return acc"
   ]
  },
  {
   "cell_type": "code",
   "execution_count": 24,
   "metadata": {},
   "outputs": [],
   "source": [
    "for i, g in enumerate(sorted(glob.glob(input_path + '/*/*/'))):\n",
    "    \n",
    "    acc = pd.read_csv(g + \"ACC.csv\", header=None)\n",
    "    bvp = pd.read_csv(g + \"BVP.csv\", header=None)\n",
    "    eda = pd.read_csv(g + \"EDA.csv\", header=None)\n",
    "    hr = pd.read_csv(g + \"HR.csv\", header=None)\n",
    "    temp = pd.read_csv(g + \"TEMP.csv\", header=None)\n",
    "\n",
    "    # print (str(g[20:23]))\n",
    "    # print (i)\n",
    "    \n",
    "    eda_ = eda_timestamps(eda)\n",
    "    temp_ = temp_timestamps(temp)\n",
    "    bvp_ = bvp_timestamps(bvp)\n",
    "    acc_ = acc_timestamps(acc)\n",
    "    hr_ = hr_timestamps(hr)\n",
    "    \n",
    "    eda_.to_csv(output_path + str(g[20:23]) + '_EDA.csv', mode='a')\n",
    "    temp_.to_csv(output_path + str(g[20:23]) + '_TEMP.csv', mode='a')\n",
    "    bvp_.to_csv(output_path + str(g[20:23]) +  '_BVP.csv', mode='a')\n",
    "    acc_.to_csv(output_path + str(g[20:23]) +  '_ACC.csv', mode='a')\n",
    "    hr_.to_csv(output_path +  str(g[20:23]) +  '_HR.csv', mode='a')"
   ]
  },
  {
   "cell_type": "code",
   "execution_count": 44,
   "metadata": {},
   "outputs": [],
   "source": [
    "# for g in sorted(glob.glob(output_path + '*')):\n",
    "\n",
    "#     df = pd.read_csv(g, index_col=0)\n",
    "#     df1 = df[df.iloc[:, 0] != df.columns[0]]\n",
    "#     df1.to_csv(output_path + str(g[32:44]))"
   ]
  },
  {
   "cell_type": "code",
   "execution_count": 47,
   "metadata": {},
   "outputs": [],
   "source": [
    "indices = {2,3}\n",
    "\n",
    "eda_list = [f for f in sorted(os.listdir(output_path)) if f.endswith('EDA.csv')]\n",
    "bvp_list = [f for f in sorted(os.listdir(output_path)) if f.endswith('BVP.csv')]\n",
    "temp_list = [f for f in sorted(os.listdir(output_path)) if f.endswith('TEMP.csv')]\n",
    "acc_list = [f for f in sorted(os.listdir(output_path)) if f.endswith('ACC.csv')]\n",
    "hr_list = [f for f in sorted(os.listdir(output_path)) if f.endswith('HR.csv')]\n",
    "\n",
    "eda_list = [v for i, v in enumerate(eda_list) if i not in indices]\n",
    "bvp_list = [v for i, v in enumerate(bvp_list) if i not in indices]\n",
    "temp_list = [v for i, v in enumerate(temp_list) if i not in indices]\n",
    "acc_list = [v for i, v in enumerate(acc_list) if i not in indices]\n",
    "hr_list = [v for i, v in enumerate(hr_list) if i not in indices]"
   ]
  },
  {
   "cell_type": "code",
   "execution_count": 92,
   "metadata": {},
   "outputs": [],
   "source": [
    "#specify eye tracking data path and output_path for mapped timestamps from E4\n",
    "\n",
    "participants = [\"p01\",\"p02\",\"p05\",\"p06\",\"p07\",\"p08\",\"p09\",\"p10\",\"p11\",\"p12\",\"p13\",\"p14\",\"p15\"]\n",
    "save_path = \"../../data/output/E4_mapped/\"\n",
    "\n",
    "#function to map E4 timestamps with eye tracking timestamps\n",
    "def E4_split(participant, pnum):\n",
    "    \n",
    "    eda = pd.read_csv(output_path + eda_list[pnum], index_col=0)\n",
    "    bvp = pd.read_csv(output_path + bvp_list[pnum], index_col=0)\n",
    "    temp = pd.read_csv(output_path + temp_list[pnum], index_col=0)\n",
    "    acc = pd.read_csv(output_path + acc_list[pnum], index_col=0)\n",
    "    hr = pd.read_csv(output_path + hr_list[pnum], index_col=0)\n",
    "\n",
    "    for i,g in enumerate(sorted(glob.glob(working_path + \"/%s/*\" %participant ))):\n",
    "            \n",
    "        timestamp = pd.read_csv(g)[\"#timestamp\"].values\n",
    "        \n",
    "        eda_ = eda[((eda[\"timestamp\"] - 3600) >= timestamp[0]*(10**-3)) & ((eda[\"timestamp\"] - 3600) <= timestamp[-1]*(10**-3))]\n",
    "        bvp_ = bvp[((bvp[\"timestamp\"] - 3600) >= timestamp[0]*(10**-3)) & ((bvp[\"timestamp\"] - 3600) <= timestamp[-1]*(10**-3))]\n",
    "        temp_ = temp[((temp[\"timestamp\"] - 3600) >= timestamp[0]*(10**-3)) & ((temp[\"timestamp\"] - 3600) <= timestamp[-1]*(10**-3))]\n",
    "        acc_ = acc[((acc[\"timestamp\"] - 3600) >= timestamp[0]*(10**-3)) & ((acc[\"timestamp\"] - 3600) <= timestamp[-1]*(10**-3))]\n",
    "        hr_ = hr[((hr[\"timestamp\"] - 3600) >= timestamp[0]*(10**-3)) & ((hr[\"timestamp\"] - 3600) <= timestamp[-1]*(10**-3))]\n",
    "\n",
    "        eda_.to_csv(save_path + '%s' %participant + '_d' + str(i+1).zfill(2) + '_EDA.csv', index=True)\n",
    "        bvp_.to_csv(save_path + '%s' %participant + '_d' + str(i+1).zfill(2) + '_BVP.csv', index=True)\n",
    "        temp_.to_csv(save_path + '%s' %participant + '_d' + str(i+1).zfill(2) + '_TEMP.csv', index=True)\n",
    "        acc_.to_csv(save_path + '%s' %participant + '_d' + str(i+1).zfill(2) + '_ACC.csv', index=True)\n",
    "        hr_.to_csv(save_path + '%s' %participant + '_d' + str(i+1).zfill(2) + '_HR.csv', index=True)"
   ]
  },
  {
   "cell_type": "code",
   "execution_count": 93,
   "metadata": {},
   "outputs": [],
   "source": [
    "p_num = 0\n",
    "\n",
    "for p in participants:\n",
    "    E4_split(p,p_num)\n",
    "    p_num = p_num + 1 "
   ]
  },
  {
   "cell_type": "code",
   "execution_count": 107,
   "metadata": {},
   "outputs": [],
   "source": [
    "labels = pd.read_csv(working_path + 'responses.csv', index_col=0)\n",
    "\n",
    "#adding labels per partcipant and document\n",
    "for g in sorted(glob.glob(output_path + \"E4_mapped/*\")):\n",
    "    \n",
    "    e4_data = pd.read_csv(g, index_col=0)\n",
    "    e4_data[\"participant\"] = g[28:31]\n",
    "    e4_data[\"document\"] = g[32:35]\n",
    "    \n",
    "    label_data = pd.merge(e4_data, labels, how=\"left\", left_on=['participant', 'document'], right_on=['participant', 'document'])\n",
    "    label_data.to_csv(output_path + 'E4_mapped/' + str(g[28:43])) "
   ]
  },
  {
   "cell_type": "code",
   "execution_count": null,
   "metadata": {},
   "outputs": [],
   "source": []
  }
 ],
 "metadata": {
  "kernelspec": {
   "display_name": "Python 3.10.4 ('dl')",
   "language": "python",
   "name": "python3"
  },
  "language_info": {
   "codemirror_mode": {
    "name": "ipython",
    "version": 3
   },
   "file_extension": ".py",
   "mimetype": "text/x-python",
   "name": "python",
   "nbconvert_exporter": "python",
   "pygments_lexer": "ipython3",
   "version": "3.10.4 (main, Mar 31 2022, 03:38:35) [Clang 12.0.0 ]"
  },
  "orig_nbformat": 4,
  "vscode": {
   "interpreter": {
    "hash": "a8ca9641ebcb14ca418d0fc8eda1f64105029c9870efd9f72e7a1b3e4a001b22"
   }
  }
 },
 "nbformat": 4,
 "nbformat_minor": 2
}
