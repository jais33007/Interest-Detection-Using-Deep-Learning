{
 "cells": [
  {
   "cell_type": "code",
   "execution_count": 2,
   "metadata": {},
   "outputs": [],
   "source": [
    "import numpy as np\n",
    "import pandas as pd\n",
    "import matplotlib.pyplot as plt\n",
    "%matplotlib inline\n",
    "\n",
    "import glob\n",
    "import sys\n",
    "sys.path.append(\"../lib/\")\n",
    "import eyegaze as eg"
   ]
  },
  {
   "cell_type": "code",
   "execution_count": 4,
   "metadata": {},
   "outputs": [],
   "source": [
    "gaze_path = \"../../data/input/gaze/\"\n",
    "working_path = \"../../data/working/\"\n",
    "output_dir = \"../../data/output/\"\n",
    "\n",
    "participant = [\"p01\",\"p02\",\"p05\",\"p06\",\"p07\",\"p08\",\"p09\",\"p10\",\"p11\",\"p12\",\"p13\",\"p14\",\"p15\"]\n",
    "\n",
    "#gaze filtering based on the screenshots captured\n",
    "def gaze_timestamps(participant):\n",
    "\n",
    "    for document, g in enumerate(sorted(glob.glob(gaze_path+\"/%s/*/\" %participant))):\n",
    "        #print (document,g)\n",
    "        data = pd.read_csv(g + \"smi_gaze.csv\")\n",
    "        capture = pd.read_csv(g + \"capture.csv\")[\"#timestamp\"].values\n",
    "\n",
    "        try:\n",
    "            if (participant=='p01'):\n",
    "                if(document==0) | (document==1) | (document==2) | (document==3) | (document==4):\n",
    "                    gaze = data[(data[\"#timestamp\"] >= capture[1]) & (data[\"#timestamp\"] <= capture[2])]\n",
    "                else:\n",
    "                    gaze = data[(data[\"#timestamp\"] >= capture[2]) & (data[\"#timestamp\"] <= capture[3])]\n",
    "            \n",
    "            elif (participant == 'p06'):\n",
    "                if(document==10):\n",
    "                    gaze = data[(data[\"#timestamp\"] >= capture[3]) & (data[\"#timestamp\"] <= capture[4])]\n",
    "                elif (document==13):\n",
    "                    gaze = data[(data[\"#timestamp\"] >= capture[1]) & (data[\"#timestamp\"] <= capture[2])]\n",
    "                else:\n",
    "                    gaze = data[(data[\"#timestamp\"] >= capture[2]) & (data[\"#timestamp\"] <= capture[3])]\n",
    "\n",
    "            elif (participant == 'p07'):\n",
    "                if(document==7) | (document==17):\n",
    "                    gaze = data[(data[\"#timestamp\"] >= capture[3]) & (data[\"#timestamp\"] <= capture[4])]\n",
    "                elif (document==10):\n",
    "                    gaze = data[(data[\"#timestamp\"] >= capture[5]) & (data[\"#timestamp\"] <= capture[6])]\n",
    "                else:\n",
    "                    gaze = data[(data[\"#timestamp\"] >= capture[2]) & (data[\"#timestamp\"] <= capture[3])]\n",
    "\n",
    "            elif (participant == 'p08'):\n",
    "                if(document==15):\n",
    "                    gaze = data[(data[\"#timestamp\"] >= capture[3]) & (data[\"#timestamp\"] <= capture[4])]\n",
    "                else:\n",
    "                    gaze = data[(data[\"#timestamp\"] >= capture[2]) & (data[\"#timestamp\"] <= capture[3])]\n",
    "\n",
    "            elif (participant == 'p10'):\n",
    "                if(document==5) | (document==9):\n",
    "                    gaze = data[(data[\"#timestamp\"] >= capture[4]) & (data[\"#timestamp\"] <= capture[5])]\n",
    "                elif (document==14):\n",
    "                    gaze = data[(data[\"#timestamp\"] >= capture[3]) & (data[\"#timestamp\"] <= capture[4])]\n",
    "                else:\n",
    "                    gaze = data[(data[\"#timestamp\"] >= capture[2]) & (data[\"#timestamp\"] <= capture[3])]\n",
    "\n",
    "            elif (participant == 'p11'):\n",
    "                if(document==2):\n",
    "                    gaze = data[(data[\"#timestamp\"] >= capture[3]) & (data[\"#timestamp\"] <= capture[4])]\n",
    "                else:\n",
    "                    gaze = data[(data[\"#timestamp\"] >= capture[2]) & (data[\"#timestamp\"] <= capture[3])]\n",
    "\n",
    "            elif (participant == 'p14'):\n",
    "                if(document==3):\n",
    "                    gaze = data[(data[\"#timestamp\"] >= capture[3]) & (data[\"#timestamp\"] <= capture[4])]\n",
    "                else:\n",
    "                    gaze = data[(data[\"#timestamp\"] >= capture[2]) & (data[\"#timestamp\"] <= capture[3])]\n",
    "\n",
    "            else:\n",
    "                gaze = data[(data[\"#timestamp\"] >= capture[2]) & (data[\"#timestamp\"] <= capture[3])]\n",
    "            \n",
    "            gaze.to_csv(working_path+\"/%s\" %participant + \"_d\"+str(document+1).zfill(2) +\".csv\", index=False)\n",
    "\n",
    "        except:\n",
    "            print(\"Error in: \", participant, document)\n",
    "\n",
    "\n",
    "# for part in participant:\n",
    "#     gaze_timestamps(part)"
   ]
  },
  {
   "cell_type": "code",
   "execution_count": 8,
   "metadata": {},
   "outputs": [],
   "source": [
    "#adding participant and document Id to the gaze data\n",
    "for g in (sorted(glob.glob(working_path + \"gaze/\" + \"*\"))):\n",
    "    \n",
    "    gaze_data = pd.read_csv(g)\n",
    "    # print (g[24:27])\n",
    "    # print (g[28:31])\n",
    "    gaze_data.insert(loc=0, column='participant', value=g[24:27])\n",
    "    gaze_data.insert(loc=1, column='document', value=g[28:31])\n",
    "\n",
    "    gaze_data.to_csv(working_path + \"gaze_full/\"+ str(g[24:31]) + '.csv', index=True)"
   ]
  },
  {
   "cell_type": "code",
   "execution_count": 5,
   "metadata": {},
   "outputs": [],
   "source": [
    "#adding ground truth labels to the gaze data\n",
    "responses = pd.read_csv(working_path + 'responses.csv', index_col=0)\n",
    "responses = responses[(responses['participant'] != 'p03') & (responses['participant']!= 'p04')]\n",
    "\n",
    "gaze_list = [f for f in sorted(os.listdir(working_path + 'gaze/')) if f.endswith ('.csv')]\n",
    "\n",
    "for i,g in enumerate(gaze_list):\n",
    "\n",
    "    df1= pd.read_csv(working_path + 'gaze/' + g)\n",
    "    df2 = responses.iloc[[i]]\n",
    "    df_new = df1.join(df2).ffill().bfill()\n",
    "    df_new.to_csv(working_path + 'gaze_labelled/' + str(g))"
   ]
  },
  {
   "cell_type": "code",
   "execution_count": null,
   "metadata": {},
   "outputs": [],
   "source": []
  }
 ],
 "metadata": {
  "kernelspec": {
   "display_name": "Python 3.8.5 ('dl')",
   "language": "python",
   "name": "python3"
  },
  "language_info": {
   "codemirror_mode": {
    "name": "ipython",
    "version": 3
   },
   "file_extension": ".py",
   "mimetype": "text/x-python",
   "name": "python",
   "nbconvert_exporter": "python",
   "pygments_lexer": "ipython3",
   "version": "3.10.4 (main, Mar 31 2022, 03:38:35) [Clang 12.0.0 ]"
  },
  "orig_nbformat": 4,
  "vscode": {
   "interpreter": {
    "hash": "a8ca9641ebcb14ca418d0fc8eda1f64105029c9870efd9f72e7a1b3e4a001b22"
   }
  }
 },
 "nbformat": 4,
 "nbformat_minor": 2
}
