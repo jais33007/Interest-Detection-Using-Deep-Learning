{
 "cells": [
  {
   "cell_type": "code",
   "execution_count": null,
   "metadata": {},
   "outputs": [
    {
     "name": "stdout",
     "output_type": "stream",
     "text": [
      "Populating the interactive namespace from numpy and matplotlib\n"
     ]
    },
    {
     "name": "stderr",
     "output_type": "stream",
     "text": [
      "/usr/local/miniconda3/lib/python3.6/site-packages/sklearn/ensemble/weight_boosting.py:29: DeprecationWarning: numpy.core.umath_tests is an internal NumPy module and should not be imported. It will be removed in a future NumPy release.\n",
      "  from numpy.core.umath_tests import inner1d\n"
     ]
    }
   ],
   "source": [
    "import numpy as np\n",
    "import pandas as pd\n",
    "import matplotlib.pyplot as plt\n",
    "%pylab inline\n",
    "\n",
    "import glob\n",
    "import sys\n",
    "sys.path.append(\"../lib/\")\n",
    "import eyegaze as eg\n",
    "from multiprocessing import Pool"
   ]
  },
  {
   "cell_type": "code",
   "execution_count": null,
   "metadata": {
    "scrolled": false
   },
   "outputs": [
    {
     "name": "stderr",
     "output_type": "stream",
     "text": [
      "/usr/local/miniconda3/lib/python3.6/site-packages/matplotlib/cbook/deprecation.py:107: MatplotlibDeprecationWarning: Passing one of 'on', 'true', 'off', 'false' as a boolean is deprecated; use an actual boolean (True/False) instead.\n",
      "  warnings.warn(message, mplDeprecation, stacklevel=1)\n",
      "/usr/local/miniconda3/lib/python3.6/site-packages/matplotlib/cbook/deprecation.py:107: MatplotlibDeprecationWarning: Passing one of 'on', 'true', 'off', 'false' as a boolean is deprecated; use an actual boolean (True/False) instead.\n",
      "  warnings.warn(message, mplDeprecation, stacklevel=1)\n",
      "/usr/local/miniconda3/lib/python3.6/site-packages/matplotlib/cbook/deprecation.py:107: MatplotlibDeprecationWarning: Passing one of 'on', 'true', 'off', 'false' as a boolean is deprecated; use an actual boolean (True/False) instead.\n",
      "  warnings.warn(message, mplDeprecation, stacklevel=1)\n",
      "/usr/local/miniconda3/lib/python3.6/site-packages/matplotlib/cbook/deprecation.py:107: MatplotlibDeprecationWarning: Passing one of 'on', 'true', 'off', 'false' as a boolean is deprecated; use an actual boolean (True/False) instead.\n",
      "  warnings.warn(message, mplDeprecation, stacklevel=1)\n"
     ]
    }
   ],
   "source": [
    "def v(df, column):\n",
    "    return df[column].values\n",
    "\n",
    "def align(fx):\n",
    "    line_number = 0\n",
    "    for f in fx:\n",
    "        if f[4] > 800 and f[5] > 2.5:\n",
    "            line_number += 1\n",
    "        f[2] = 480 + line_number*45\n",
    "    return fx\n",
    "\n",
    "working_dir = \"../../data/working/\"\n",
    "output_dir = \"../../data/output/\"\n",
    "\n",
    "def export_aligned(participant):\n",
    "    for document in range(1, 16):\n",
    "        for paragraph, g in enumerate(sorted(glob.glob(working_dir+\"gaze/p\"+str(participant)+\"_d\"+str(document).zfill(2)+\"_*.csv\"))):\n",
    "            paragraph = paragraph + 1                \n",
    "            gaze = pd.read_csv(working_dir+\"gaze/p\"+str(participant)+\"_d\"+str(document).zfill(2)+\"_p\"+str(paragraph)+\".csv\")\n",
    "            fx = eg.detectFixations(v(gaze, \"tobii_system_timestamp\")*0.001, v(gaze, \"gaze_x\"), v(gaze, \"gaze_y\"))\n",
    "            fx = align(fx)\n",
    "            eg.plotScanPath(\n",
    "                fx[:, 1], fx[:, 2], fx[:, 3], \n",
    "                bg_image=working_dir+\"bg/d\"+str(document).zfill(2)+\"_p\"+str(paragraph)+\".png\",\n",
    "                save_path=output_dir+\"aligned/p\"+str(participant)+\"_d\"+str(document).zfill(2)+\"_p\"+str(paragraph)+\".png\"\n",
    "            )\n",
    "\n",
    "pl = Pool()\n",
    "pl.map(export_aligned, range(1, 10))\n",
    "pl.terminate()"
   ]
  },
  {
   "cell_type": "code",
   "execution_count": null,
   "metadata": {
    "collapsed": true
   },
   "outputs": [],
   "source": []
  }
 ],
 "metadata": {
  "kernelspec": {
   "display_name": "Python 3",
   "language": "python",
   "name": "python3"
  },
  "language_info": {
   "codemirror_mode": {
    "name": "ipython",
    "version": 3
   },
   "file_extension": ".py",
   "mimetype": "text/x-python",
   "name": "python",
   "nbconvert_exporter": "python",
   "pygments_lexer": "ipython3",
   "version": "3.6.1"
  }
 },
 "nbformat": 4,
 "nbformat_minor": 2
}
