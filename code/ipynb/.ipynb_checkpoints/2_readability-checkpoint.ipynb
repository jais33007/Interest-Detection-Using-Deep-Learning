{
 "cells": [
  {
   "cell_type": "code",
   "execution_count": null,
   "metadata": {},
   "outputs": [
    {
     "name": "stdout",
     "output_type": "stream",
     "text": [
      "Populating the interactive namespace from numpy and matplotlib\n"
     ]
    }
   ],
   "source": [
    "import numpy as np\n",
    "import pandas as pd\n",
    "import matplotlib.pyplot as plt\n",
    "%pylab inline\n",
    "\n",
    "import json\n",
    "import seaborn as sns\n",
    "from multiprocessing import Pool\n",
    "from scipy.stats import pearsonr\n",
    "from sklearn.svm import SVR, SVC\n",
    "from sklearn.model_selection import GridSearchCV\n",
    "from sklearn.model_selection import StratifiedKFold\n",
    "from sklearn.preprocessing import StandardScaler\n",
    "from sklearn.metrics import confusion_matrix, accuracy_score"
   ]
  },
  {
   "cell_type": "code",
   "execution_count": null,
   "metadata": {},
   "outputs": [
    {
     "name": "stdout",
     "output_type": "stream",
     "text": [
      "Index(['Unnamed: 0', 'Participant', 'Document', 'Rating', 'Class',\n",
      "       'Avg_Rating', 'Flesch-ease', 'Grade', 'Mean_fix', 'Std_fix', 'Mean_SD',\n",
      "       'Mean_SL', 'Mean_RR', 'Mean_RL', 'Mean_LB', 'Avg_WL', 'Avg_SL', 'StopW',\n",
      "       'Tot_Srprsl', 'SynSp', 'LexSp', 'Ambig', 'DT', 'IN', 'JJ', 'JJR', 'NN',\n",
      "       'NNS', 'PRP', 'PRP$', 'RB', 'VB', 'VBD', 'VBG', 'VBN', 'VBP', 'VBZ'],\n",
      "      dtype='object')\n",
      "[0 'P0' 'D1' 3 2 3.1 57.1 10 300.849952758956 109.37093957635099\n",
      " 0.338285706358957 69.1303618099399 0.033077450869307995 33.6250779205441\n",
      " -770.6020835689211 4.74524714828897 17.533333333333303 0.422053231939163\n",
      " 6.79126666666666 2.3382 4.45313333333333 1.5760666666666698\n",
      " 0.114068441064639 0.114068441064639 0.083650190114069 0.007604562737643\n",
      " 0.197718631178707 0.095057034220532 0.038022813688212996\n",
      " 0.011406844106464 0.026615969581749003 0.038022813688212996\n",
      " 0.038022813688212996 0.03041825095057 0.022813688212928\n",
      " 0.019011406844106998 0.045627376425856]\n"
     ]
    }
   ],
   "source": [
    "df = pd.read_csv(\"../../data/working/feature/read_ratings.csv\")\n",
    "print(df.columns)\n",
    "print(df.values[0])"
   ]
  },
  {
   "cell_type": "markdown",
   "metadata": {},
   "source": [
    "## Visualization"
   ]
  },
  {
   "cell_type": "code",
   "execution_count": null,
   "metadata": {},
   "outputs": [],
   "source": [
    "def dist(df):\n",
    "    return [len(df[df[\"Rating\"] == i]) for i in range(1, 5)]"
   ]
  },
  {
   "cell_type": "code",
   "execution_count": null,
   "metadata": {},
   "outputs": [
    {
     "data": {
      "text/plain": [
       "([<matplotlib.axis.XTick at 0x1a20502ac8>,\n",
       "  <matplotlib.axis.XTick at 0x1a205023c8>,\n",
       "  <matplotlib.axis.XTick at 0x1a205022b0>,\n",
       "  <matplotlib.axis.XTick at 0x1a206a48d0>],\n",
       " <a list of 4 Text xticklabel objects>)"
      ]
     },
     "execution_count": 4,
     "metadata": {},
     "output_type": "execute_result"
    },
    {
     "data": {
      "image/png": "[encoded data removed]",
      "text/plain": [
       "<Figure size 432x288 with 1 Axes>"
      ]
     },
     "metadata": {},
     "output_type": "display_data"
    }
   ],
   "source": [
    "d = np.array(dist(df))\n",
    "plt.bar(range(1, 5), d/np.sum(d))\n",
    "plt.xticks(range(1, 5))"
   ]
  },
  {
   "cell_type": "code",
   "execution_count": null,
   "metadata": {
    "scrolled": false
   },
   "outputs": [
    {
     "data": {
      "image/png": "[encoded data removed]",
      "text/plain": [
       "<Figure size 720x432 with 15 Axes>"
      ]
     },
     "metadata": {},
     "output_type": "display_data"
    }
   ],
   "source": [
    "plt.figure(figsize=(10, 6))\n",
    "plt.subplots_adjust(wspace=0.3, hspace=0.5)\n",
    "for d in range(1, 16):\n",
    "    plt.subplot(3, 5, d)\n",
    "    plt.bar(range(1, 5), dist(df[df['Document'] == 'D'+str(d)]))\n",
    "    plt.ylim(0, 8)\n",
    "    plt.xticks(range(1, 5))\n",
    "    plt.title('D'+str(d))"
   ]
  },
  {
   "cell_type": "code",
   "execution_count": null,
   "metadata": {},
   "outputs": [
    {
     "data": {
      "image/png": "[encoded data removed]",
      "text/plain": [
       "<Figure size 720x288 with 9 Axes>"
      ]
     },
     "metadata": {},
     "output_type": "display_data"
    }
   ],
   "source": [
    "plt.figure(figsize=(10, 4))\n",
    "plt.subplots_adjust(wspace=0.3, hspace=0.5)\n",
    "for p in range(9):\n",
    "    plt.subplot(2, 5, p+1)\n",
    "    plt.bar(range(1, 5), dist(df[df['Participant'] == 'P'+str(p)]))\n",
    "    plt.ylim(0, 8)\n",
    "    plt.xticks(range(1, 5))\n",
    "    plt.title('P'+str(p+1))"
   ]
  },
  {
   "cell_type": "code",
   "execution_count": null,
   "metadata": {},
   "outputs": [
    {
     "name": "stdout",
     "output_type": "stream",
     "text": [
      "1 []\n",
      "2 ['P1' 'P2' 'P5' 'P7']\n",
      "3 ['P3' 'P8']\n",
      "4 ['P0' 'P4' 'P6' 'P9']\n"
     ]
    }
   ],
   "source": [
    "for i in range(1, 5):\n",
    "    print(i, df[(df['Document'] == 'D11') & (df['Rating'] == i)]['Participant'].values)"
   ]
  },
  {
   "cell_type": "code",
   "execution_count": null,
   "metadata": {},
   "outputs": [
    {
     "data": {
      "image/png": "[encoded data removed]",
      "text/plain": [
       "<Figure size 432x288 with 2 Axes>"
      ]
     },
     "metadata": {},
     "output_type": "display_data"
    }
   ],
   "source": [
    "features = ['Mean_fix', 'Std_fix', 'Mean_SD','Mean_SL', 'Mean_RR', 'Mean_RL']\n",
    "res = []\n",
    "for participant in range(9):\n",
    "    res_ = []\n",
    "    for feature in features:\n",
    "        d = df[df[\"Participant\"]=='P'+str(participant)]\n",
    "        cor, p = pearsonr(d[feature], d[\"Rating\"])\n",
    "        res_.append(cor)\n",
    "    res.append(res_)\n",
    "res = np.array(res).T\n",
    "s = sns.heatmap(res, yticklabels=features, xticklabels=[\"p\"+str(i+1).zfill(2) for i in range(9)], cmap='RdBu_r', vmin=-1, vmax=1, square=True)\n",
    "# s.get_figure().savefig('../../data/output/figure/feature_correlation.eps', format='eps', dpi = 300, transparent = True, bbox_inches = 'tight', pad_inches = 0)"
   ]
  },
  {
   "cell_type": "markdown",
   "metadata": {},
   "source": [
    "## classification"
   ]
  },
  {
   "cell_type": "code",
   "execution_count": null,
   "metadata": {
    "collapsed": true
   },
   "outputs": [],
   "source": [
    "def plot_cmx(labels, predicteds, binary=False):\n",
    "    cmx = confusion_matrix(labels, predicteds)\n",
    "    cmx = cmx.astype('float') / cmx.sum(axis=1)[:, np.newaxis]\n",
    "    if binary:\n",
    "        class_names = [\"easy\", \"difficult\"]\n",
    "    else:\n",
    "        class_names = [\"2\", \"3\", \"4\"]\n",
    "    plt.figure(figsize=(5, 4))\n",
    "    plt.title(\"mean accuracy: %.2f\" % accuracy_score(labels, predicteds))\n",
    "    sns.heatmap(cmx, annot=True, fmt=\".0%\", xticklabels=class_names, yticklabels=class_names, cmap='Blues')"
   ]
  },
  {
   "cell_type": "code",
   "execution_count": null,
   "metadata": {},
   "outputs": [
    {
     "name": "stdout",
     "output_type": "stream",
     "text": [
      "{'{\"C\": 1, \"gamma\": 0.5, \"kernel\": \"rbf\"}': 7, '{\"C\": 2, \"gamma\": 0.25, \"kernel\": \"rbf\"}': 1, '{\"C\": 4, \"gamma\": 0.125, \"kernel\": \"rbf\"}': 1, '{\"C\": 1, \"gamma\": 0.125, \"kernel\": \"rbf\"}': 2, '{\"C\": 2, \"gamma\": 0.5, \"kernel\": \"rbf\"}': 4}\n"
     ]
    },
    {
     "data": {
      "image/png": "[encoded data removed]",
      "text/plain": [
       "<Figure size 360x288 with 2 Axes>"
      ]
     },
     "metadata": {},
     "output_type": "display_data"
    }
   ],
   "source": [
    "features = ['Mean_fix', 'Std_fix', 'Mean_SD','Mean_SL', 'Mean_RR', 'Mean_RL']\n",
    "# features = ['Avg_WL', 'Avg_SL', 'StopW', 'Tot_Srprsl', 'SynSp', 'LexSp', 'Ambig', 'DT', 'IN', 'JJ', 'JJR', 'NN', 'NNS', 'PRP', 'PRP$', 'RB', 'VB', 'VBD', 'VBG', 'VBN', 'VBP', 'VBZ']\n",
    "\n",
    "params = [{\n",
    "    'C': [2**x for x in range(0, 3)],\n",
    "    'kernel': ['rbf'],\n",
    "    'gamma': [2**x for x in range(-3, 0)]\n",
    "}]\n",
    "\n",
    "df_ = df[df[\"Rating\"] != 1]\n",
    "\n",
    "bps = {}\n",
    "labels = []\n",
    "predicteds = []\n",
    "for d in range(1, 16):\n",
    "    df_train = df_[df_['Document'] != 'D'+str(d)]\n",
    "    X_train = df_train[features].values\n",
    "    y_train = df_train[\"Rating\"].values\n",
    "\n",
    "    df_test = df_[df_['Document'] == 'D'+str(d)]\n",
    "    X_test = df_test[features].values\n",
    "    \n",
    "    scaler = StandardScaler().fit(X_train)\n",
    "    X_train = scaler.transform(X_train)\n",
    "    X_test = scaler.transform(X_test)\n",
    "    \n",
    "    grid_search_clf = GridSearchCV(SVC(class_weight=\"balanced\"), params, cv=StratifiedKFold(n_splits=5, shuffle=True, random_state=1), scoring=\"accuracy\", n_jobs=-1)\n",
    "    grid_search_clf.fit(X_train, y_train)\n",
    "    \n",
    "    bp = grid_search_clf.best_params_\n",
    "    bp_json = json.dumps(bp)\n",
    "    if bp_json not in bps.keys():\n",
    "        bps[bp_json] = 1\n",
    "    else:\n",
    "        bps[bp_json] += 1\n",
    "    \n",
    "    clf = SVC(kernel=bp[\"kernel\"], C=bp[\"C\"], gamma=bp[\"gamma\"], class_weight=\"balanced\")\n",
    "    clf.fit(X_train, y_train)\n",
    "    \n",
    "    predicteds.extend(clf.predict(X_test))\n",
    "    labels.extend(df_test[\"Rating\"].values)\n",
    "    \n",
    "plot_cmx(labels, predicteds)\n",
    "print(bps)"
   ]
  },
  {
   "cell_type": "code",
   "execution_count": null,
   "metadata": {
    "collapsed": true
   },
   "outputs": [],
   "source": []
  }
 ],
 "metadata": {
  "kernelspec": {
   "display_name": "Python 3",
   "language": "python",
   "name": "python3"
  },
  "language_info": {
   "codemirror_mode": {
    "name": "ipython",
    "version": 3
   },
   "file_extension": ".py",
   "mimetype": "text/x-python",
   "name": "python",
   "nbconvert_exporter": "python",
   "pygments_lexer": "ipython3",
   "version": "3.6.1"
  }
 },
 "nbformat": 4,
 "nbformat_minor": 2
}
