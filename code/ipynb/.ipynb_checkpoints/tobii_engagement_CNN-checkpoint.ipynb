{
 "cells": [
  {
   "cell_type": "code",
   "execution_count": 91,
   "id": "upper-vessel",
   "metadata": {},
   "outputs": [
    {
     "name": "stdout",
     "output_type": "stream",
     "text": [
      "tensorflow version: 2.8.0\n"
     ]
    }
   ],
   "source": [
    "import pandas as pd\n",
    "import numpy as np\n",
    "import matplotlib.pyplot as plt\n",
    "import seaborn as sns\n",
    "import glob\n",
    "import os\n",
    "from scipy.stats import mode\n",
    "\n",
    "import sys\n",
    "from importlib import reload\n",
    "from sklearn.metrics import confusion_matrix\n",
    "import tensorflow as tf\n",
    "print('tensorflow version:', tf.__version__)\n",
    "import keras\n",
    "from scipy import stats\n",
    "import scipy.signal as scisig\n",
    "import scipy.stats\n",
    "import dalmatian\n",
    "from sklearn.metrics import f1_score, precision_score, recall_score\n",
    "import seaborn as sns\n",
    "from tqdm.keras import TqdmCallback\n",
    "from tensorflow.keras.models import Sequential\n",
    "from tensorflow.keras.layers import Dense, Dropout\n",
    "#from multimodal_classfiers.classifier import get_multipliers, Classifier\n",
    "from tensorflow.keras.utils import to_categorical\n",
    "from tensorflow.keras.layers import Flatten\n",
    "from tensorflow.keras.layers import LSTM\n",
    "from tensorflow.keras.callbacks import EarlyStopping\n",
    "from tensorflow.keras.layers import InputLayer, Flatten, BatchNormalization, Conv1D, MaxPooling1D, Reshape\n",
    "from tensorflow.keras.preprocessing.sequence import TimeseriesGenerator\n",
    "from sklearn.utils import class_weight\n",
    "from keras.utils import np_utils\n"
   ]
  },
  {
   "cell_type": "code",
   "execution_count": 56,
   "id": "stopped-storage",
   "metadata": {},
   "outputs": [],
   "source": [
    "input_dir = \"../../data/input/\"\n",
    "working_dir = \"../../data/working/\"\n",
    "output_dir = \"../../data/output/\"\n",
    "\n",
    "eye_data = pd.read_csv(input_dir + \"smalldata.csv\",)"
   ]
  },
  {
   "cell_type": "code",
   "execution_count": 71,
   "id": "tropical-visibility",
   "metadata": {},
   "outputs": [
    {
     "name": "stdout",
     "output_type": "stream",
     "text": [
      "Index(['gaze_x', 'gaze_y', 'pupil_diameter', 'participant', 'Engagement',\n",
      "       'Eng_Class'],\n",
      "      dtype='object') (2643624, 6)\n"
     ]
    }
   ],
   "source": [
    "print (eye_data.columns, eye_data.shape)\n",
    "feature = ['gaze_x', 'gaze_y', 'pupil_diameter']\n",
    "participants = eye_data['participant'].unique()"
   ]
  },
  {
   "cell_type": "code",
   "execution_count": 72,
   "id": "concerned-giant",
   "metadata": {},
   "outputs": [
    {
     "data": {
      "text/plain": [
       "array(['P01', 'P02', 'P03', 'P04', 'P05', 'P06', 'P07', 'P08', 'P09',\n",
       "       'P10', 'P11', 'P12', 'P13', 'P15', 'P16', 'P18', 'P19'],\n",
       "      dtype=object)"
      ]
     },
     "execution_count": 72,
     "metadata": {},
     "output_type": "execute_result"
    }
   ],
   "source": [
    "participants"
   ]
  },
  {
   "cell_type": "code",
   "execution_count": 73,
   "id": "hollywood-chrome",
   "metadata": {},
   "outputs": [],
   "source": [
    "freq = 60\n",
    "\n",
    "def s(samples):\n",
    "    std = np.std(samples)\n",
    "    return (samples - np.mean(samples)) / std\n",
    "\n",
    "def feature_normalize(dataset):\n",
    "\n",
    "    mu = np.mean(dataset, axis=0)\n",
    "    sigma = np.std(dataset, axis=0)\n",
    "    return (dataset - mu)/sigma\n",
    "\n",
    "def create_window(data, win_size=30, win_step=15):\n",
    "    \n",
    "    features = []; labels=[]; win_size=30; win_step=15;\n",
    "    total_time = int(len(data) / freq)\n",
    "\n",
    "    for i in range(win_size, total_time, win_step):\n",
    "        \n",
    "        features.append(s(data[feature][freq * (i - win_size): freq * i]))\n",
    "\n",
    "        l = stats.mode(data[\"Eng_Class\"][freq * (i - win_size): freq * i])[0][0]\n",
    "        #lp = np.bincount(np.array(l)).argmax()\n",
    "        labels.append(l)\n",
    "        \n",
    "    return np.array(features), np.array(labels)\n",
    "\n",
    "def get_frames(df, frame_size, hop_size, label_name):\n",
    "\n",
    "    N_FEATURES = 3\n",
    "\n",
    "    frames = []\n",
    "    labels = []\n",
    "    for i in range(0, len(df) - frame_size, hop_size):\n",
    "          for column in df.columns:\n",
    "            if column!=label_name:\n",
    "                column = df[column].values[i: i + frame_size]\n",
    "                frames.append([column])\n",
    "            else:\n",
    "            # Retrieve the most often used label in this segment\n",
    "                label = stats.mode(df[label_name][i: i + frame_size])[0][0]\n",
    "                labels.append(label)\n",
    "\n",
    "    # Bring the segments into a better shape\n",
    "    frames = np.asarray(frames).reshape(-1, frame_size, N_FEATURES)\n",
    "    labels = np.asarray(labels)\n",
    "\n",
    "    return frames, labels"
   ]
  },
  {
   "cell_type": "code",
   "execution_count": null,
   "id": "curious-supervisor",
   "metadata": {},
   "outputs": [],
   "source": []
  },
  {
   "cell_type": "code",
   "execution_count": 75,
   "id": "coupled-swedish",
   "metadata": {},
   "outputs": [],
   "source": [
    "def prepare_data(data, fold):\n",
    "    \n",
    "    df_val = eye_data[eye_data['participant'] == participants[fold]]\n",
    "    df_train = eye_data[eye_data['participant'] != participants[fold]]\n",
    "\n",
    "    df_train.drop(['participant','Engagement'], axis=1, inplace=True)\n",
    "    df_val.drop(['participant','Engagement'], axis=1, inplace=True)\n",
    "\n",
    "    x_train, y_train = create_window(df_train)\n",
    "    num_time_periods, num_sensors = x_train.shape[1], x_train.shape[2]\n",
    "    num_classes = 2\n",
    "\n",
    "    input_shape = (num_time_periods*num_sensors)\n",
    "    x_train = x_train.reshape(x_train.shape[0], input_shape)\n",
    "\n",
    "    #x_train = x_train.astype(\"float32\")\n",
    "    #y_train = y_train.astype(\"float32\")\n",
    "\n",
    "    y_train = np_utils.to_categorical(y_train, num_classes)\n",
    "\n",
    "    x_val, y_val = create_window(df_val)\n",
    "\n",
    "    num_time_periods1, num_sensors1 = x_val.shape[1], x_val.shape[2]\n",
    "    num_classes1 = 2\n",
    "\n",
    "    input_shape1 = (num_time_periods1*num_sensors1)\n",
    "    x_val = x_val.reshape(x_val.shape[0], input_shape1)\n",
    "\n",
    "    #x_val = x_val.astype(\"float32\")\n",
    "    #y_val = y_val.astype(\"float32\")\n",
    "\n",
    "    #y_val = np_utils.to_categorical(y_val, num_classes1)\n",
    "\n",
    "    return num_time_periods, num_sensors, x_train, y_train, x_val, y_val\n"
   ]
  },
  {
   "cell_type": "code",
   "execution_count": 108,
   "id": "pursuant-french",
   "metadata": {},
   "outputs": [],
   "source": [
    "def cnn_model(num_time_periods, num_sensors, input_shape):\n",
    "  # 1D CNN neural network\n",
    "    model = Sequential()\n",
    "    #model.add(Reshape((frame_size, num_sensors), input_shape=(input_shape,)))\n",
    "    model.add(Conv1D(128, 5, activation='relu', input_shape=input_shape))\n",
    "    model.add(Conv1D(64, 3, activation='relu'))\n",
    "    model.add(MaxPooling1D(3))\n",
    "    model.add(Conv1D(64, 3, activation='relu'))\n",
    "    model.add(Conv1D(32, 2, activation='relu'))\n",
    "    #model.add(GlobalAveragePooling1D())\n",
    "    model.add(Dropout(0.5))\n",
    "    model.add(Flatten())\n",
    "\n",
    "    model.add(Dense(100, activation='relu'))\n",
    "    model.add(Dense(50, activation = 'relu'))\n",
    "    model.add(Dense(16, activation = 'relu'))\n",
    "    model.add(Dense(2, activation='softmax'))\n",
    "\n",
    "\n",
    "    model.compile(loss='categorical_crossentropy', optimizer=tf.keras.optimizers.Adam(learning_rate=0.0001), metrics=['accuracy'])\n",
    "\n",
    "    #print(model.summary())\n",
    "    return model\n",
    "\n",
    "def fit_and_evaluate(num_time_periods, num_sensors,t_x, val_x, t_y, val_y):\n",
    "    \n",
    "    input_shape = (num_time_periods*num_sensors)\n",
    "    model = cnn_model(num_time_periods, num_sensors, input_shape)\n",
    "    \n",
    "    es = EarlyStopping(monitor='val_loss', mode='min', verbose=1, patience=30)\n",
    "\n",
    "    results = model.fit(t_x, t_y, epochs=5, batch_size=64, callbacks=[es], \n",
    "              verbose=1, validation_split=0.2)  \n",
    "    \n",
    "    val_score = model.evaluate(val_x, np_utils.to_categorical(val_y, 2))\n",
    "    preds = model.predict(val_x)\n",
    "    return results, val_score, preds\n",
    "\n",
    "def plot_cmx(labels, predicteds, binary):\n",
    "    cmx = confusion_matrix(labels, predicteds)\n",
    "    cmx = cmx.astype('float') / cmx.sum(axis=1)[:, np.newaxis]\n",
    "    if binary:\n",
    "        class_names = ['Low', 'High']\n",
    "    else:\n",
    "        class_names = ['Happy', 'Angry','Sad','Relaxed']\n",
    "    plt.figure(figsize=(8, 6))\n",
    "    plt.title(\"mean accuracy: %.2f\" % accuracy_score(labels, predicteds))\n",
    "    sns.heatmap(cmx, annot=True, fmt=\".0%\",center=1, xticklabels=class_names, yticklabels=class_names)\n",
    "\n",
    "    plt.ylabel('Predicted')\n",
    "    plt.xlabel('Actual')\n",
    "    plt.show()"
   ]
  },
  {
   "cell_type": "code",
   "execution_count": 109,
   "id": "single-hunger",
   "metadata": {},
   "outputs": [
    {
     "name": "stdout",
     "output_type": "stream",
     "text": [
      "Training with part 1 left out\n"
     ]
    },
    {
     "ename": "TypeError",
     "evalue": "'int' object is not iterable",
     "output_type": "error",
     "traceback": [
      "\u001b[0;31m---------------------------------------------------------------------------\u001b[0m",
      "\u001b[0;31mTypeError\u001b[0m                                 Traceback (most recent call last)",
      "Input \u001b[0;32mIn [109]\u001b[0m, in \u001b[0;36m<cell line: 4>\u001b[0;34m()\u001b[0m\n\u001b[1;32m      8\u001b[0m \u001b[38;5;28mprint\u001b[39m(\u001b[38;5;124m\"\u001b[39m\u001b[38;5;124mTraining with part \u001b[39m\u001b[38;5;124m\"\u001b[39m\u001b[38;5;241m+\u001b[39m\u001b[38;5;28mstr\u001b[39m(i\u001b[38;5;241m+\u001b[39m\u001b[38;5;241m1\u001b[39m)\u001b[38;5;241m+\u001b[39m\u001b[38;5;124m\"\u001b[39m\u001b[38;5;124m left out\u001b[39m\u001b[38;5;124m\"\u001b[39m)\n\u001b[1;32m      9\u001b[0m num_time_periods, num_sensors, t_x, t_y, val_x, val_y \u001b[38;5;241m=\u001b[39m prepare_data(eye_data, i)\n\u001b[0;32m---> 11\u001b[0m results, scores, preds \u001b[38;5;241m=\u001b[39m \u001b[43mfit_and_evaluate\u001b[49m\u001b[43m(\u001b[49m\u001b[43mnum_time_periods\u001b[49m\u001b[43m,\u001b[49m\u001b[43m \u001b[49m\u001b[43mnum_sensors\u001b[49m\u001b[43m,\u001b[49m\u001b[43m \u001b[49m\u001b[43mt_x\u001b[49m\u001b[43m,\u001b[49m\u001b[43m \u001b[49m\u001b[43mval_x\u001b[49m\u001b[43m,\u001b[49m\u001b[43m \u001b[49m\u001b[43mt_y\u001b[49m\u001b[43m,\u001b[49m\u001b[43m \u001b[49m\u001b[43mval_y\u001b[49m\u001b[43m)\u001b[49m\n\u001b[1;32m     12\u001b[0m model_history\u001b[38;5;241m.\u001b[39mappend(results)\n\u001b[1;32m     13\u001b[0m cvscores\u001b[38;5;241m.\u001b[39mappend(scores[\u001b[38;5;241m1\u001b[39m] \u001b[38;5;241m*\u001b[39m \u001b[38;5;241m100\u001b[39m)\n",
      "Input \u001b[0;32mIn [108]\u001b[0m, in \u001b[0;36mfit_and_evaluate\u001b[0;34m(num_time_periods, num_sensors, t_x, val_x, t_y, val_y)\u001b[0m\n\u001b[1;32m     25\u001b[0m \u001b[38;5;28;01mdef\u001b[39;00m \u001b[38;5;21mfit_and_evaluate\u001b[39m(num_time_periods, num_sensors,t_x, val_x, t_y, val_y):\n\u001b[1;32m     27\u001b[0m     input_shape \u001b[38;5;241m=\u001b[39m (num_time_periods\u001b[38;5;241m*\u001b[39mnum_sensors)\n\u001b[0;32m---> 28\u001b[0m     model \u001b[38;5;241m=\u001b[39m \u001b[43mcnn_model\u001b[49m\u001b[43m(\u001b[49m\u001b[43mnum_time_periods\u001b[49m\u001b[43m,\u001b[49m\u001b[43m \u001b[49m\u001b[43mnum_sensors\u001b[49m\u001b[43m,\u001b[49m\u001b[43m \u001b[49m\u001b[43minput_shape\u001b[49m\u001b[43m)\u001b[49m\n\u001b[1;32m     30\u001b[0m     es \u001b[38;5;241m=\u001b[39m EarlyStopping(monitor\u001b[38;5;241m=\u001b[39m\u001b[38;5;124m'\u001b[39m\u001b[38;5;124mval_loss\u001b[39m\u001b[38;5;124m'\u001b[39m, mode\u001b[38;5;241m=\u001b[39m\u001b[38;5;124m'\u001b[39m\u001b[38;5;124mmin\u001b[39m\u001b[38;5;124m'\u001b[39m, verbose\u001b[38;5;241m=\u001b[39m\u001b[38;5;241m1\u001b[39m, patience\u001b[38;5;241m=\u001b[39m\u001b[38;5;241m30\u001b[39m)\n\u001b[1;32m     32\u001b[0m     results \u001b[38;5;241m=\u001b[39m model\u001b[38;5;241m.\u001b[39mfit(t_x, t_y, epochs\u001b[38;5;241m=\u001b[39m\u001b[38;5;241m5\u001b[39m, batch_size\u001b[38;5;241m=\u001b[39m\u001b[38;5;241m64\u001b[39m, callbacks\u001b[38;5;241m=\u001b[39m[es], \n\u001b[1;32m     33\u001b[0m               verbose\u001b[38;5;241m=\u001b[39m\u001b[38;5;241m1\u001b[39m, validation_split\u001b[38;5;241m=\u001b[39m\u001b[38;5;241m0.2\u001b[39m)  \n",
      "Input \u001b[0;32mIn [108]\u001b[0m, in \u001b[0;36mcnn_model\u001b[0;34m(num_time_periods, num_sensors, input_shape)\u001b[0m\n\u001b[1;32m      3\u001b[0m model \u001b[38;5;241m=\u001b[39m Sequential()\n\u001b[1;32m      4\u001b[0m \u001b[38;5;66;03m#model.add(Reshape((frame_size, num_sensors), input_shape=(input_shape,)))\u001b[39;00m\n\u001b[0;32m----> 5\u001b[0m model\u001b[38;5;241m.\u001b[39madd(\u001b[43mConv1D\u001b[49m\u001b[43m(\u001b[49m\u001b[38;5;241;43m128\u001b[39;49m\u001b[43m,\u001b[49m\u001b[43m \u001b[49m\u001b[38;5;241;43m5\u001b[39;49m\u001b[43m,\u001b[49m\u001b[43m \u001b[49m\u001b[43mactivation\u001b[49m\u001b[38;5;241;43m=\u001b[39;49m\u001b[38;5;124;43m'\u001b[39;49m\u001b[38;5;124;43mrelu\u001b[39;49m\u001b[38;5;124;43m'\u001b[39;49m\u001b[43m,\u001b[49m\u001b[43m \u001b[49m\u001b[43minput_shape\u001b[49m\u001b[38;5;241;43m=\u001b[39;49m\u001b[43minput_shape\u001b[49m\u001b[43m)\u001b[49m)\n\u001b[1;32m      6\u001b[0m model\u001b[38;5;241m.\u001b[39madd(Conv1D(\u001b[38;5;241m64\u001b[39m, \u001b[38;5;241m3\u001b[39m, activation\u001b[38;5;241m=\u001b[39m\u001b[38;5;124m'\u001b[39m\u001b[38;5;124mrelu\u001b[39m\u001b[38;5;124m'\u001b[39m))\n\u001b[1;32m      7\u001b[0m model\u001b[38;5;241m.\u001b[39madd(MaxPooling1D(\u001b[38;5;241m3\u001b[39m))\n",
      "File \u001b[0;32m~/opt/anaconda3/envs/dl/lib/python3.8/site-packages/keras/layers/convolutional.py:511\u001b[0m, in \u001b[0;36mConv1D.__init__\u001b[0;34m(self, filters, kernel_size, strides, padding, data_format, dilation_rate, groups, activation, use_bias, kernel_initializer, bias_initializer, kernel_regularizer, bias_regularizer, activity_regularizer, kernel_constraint, bias_constraint, **kwargs)\u001b[0m\n\u001b[1;32m    493\u001b[0m \u001b[38;5;28;01mdef\u001b[39;00m \u001b[38;5;21m__init__\u001b[39m(\u001b[38;5;28mself\u001b[39m,\n\u001b[1;32m    494\u001b[0m              filters,\n\u001b[1;32m    495\u001b[0m              kernel_size,\n\u001b[0;32m   (...)\u001b[0m\n\u001b[1;32m    509\u001b[0m              bias_constraint\u001b[38;5;241m=\u001b[39m\u001b[38;5;28;01mNone\u001b[39;00m,\n\u001b[1;32m    510\u001b[0m              \u001b[38;5;241m*\u001b[39m\u001b[38;5;241m*\u001b[39mkwargs):\n\u001b[0;32m--> 511\u001b[0m   \u001b[38;5;28;43msuper\u001b[39;49m\u001b[43m(\u001b[49m\u001b[43mConv1D\u001b[49m\u001b[43m,\u001b[49m\u001b[43m \u001b[49m\u001b[38;5;28;43mself\u001b[39;49m\u001b[43m)\u001b[49m\u001b[38;5;241;43m.\u001b[39;49m\u001b[38;5;21;43m__init__\u001b[39;49m\u001b[43m(\u001b[49m\n\u001b[1;32m    512\u001b[0m \u001b[43m      \u001b[49m\u001b[43mrank\u001b[49m\u001b[38;5;241;43m=\u001b[39;49m\u001b[38;5;241;43m1\u001b[39;49m\u001b[43m,\u001b[49m\n\u001b[1;32m    513\u001b[0m \u001b[43m      \u001b[49m\u001b[43mfilters\u001b[49m\u001b[38;5;241;43m=\u001b[39;49m\u001b[43mfilters\u001b[49m\u001b[43m,\u001b[49m\n\u001b[1;32m    514\u001b[0m \u001b[43m      \u001b[49m\u001b[43mkernel_size\u001b[49m\u001b[38;5;241;43m=\u001b[39;49m\u001b[43mkernel_size\u001b[49m\u001b[43m,\u001b[49m\n\u001b[1;32m    515\u001b[0m \u001b[43m      \u001b[49m\u001b[43mstrides\u001b[49m\u001b[38;5;241;43m=\u001b[39;49m\u001b[43mstrides\u001b[49m\u001b[43m,\u001b[49m\n\u001b[1;32m    516\u001b[0m \u001b[43m      \u001b[49m\u001b[43mpadding\u001b[49m\u001b[38;5;241;43m=\u001b[39;49m\u001b[43mpadding\u001b[49m\u001b[43m,\u001b[49m\n\u001b[1;32m    517\u001b[0m \u001b[43m      \u001b[49m\u001b[43mdata_format\u001b[49m\u001b[38;5;241;43m=\u001b[39;49m\u001b[43mdata_format\u001b[49m\u001b[43m,\u001b[49m\n\u001b[1;32m    518\u001b[0m \u001b[43m      \u001b[49m\u001b[43mdilation_rate\u001b[49m\u001b[38;5;241;43m=\u001b[39;49m\u001b[43mdilation_rate\u001b[49m\u001b[43m,\u001b[49m\n\u001b[1;32m    519\u001b[0m \u001b[43m      \u001b[49m\u001b[43mgroups\u001b[49m\u001b[38;5;241;43m=\u001b[39;49m\u001b[43mgroups\u001b[49m\u001b[43m,\u001b[49m\n\u001b[1;32m    520\u001b[0m \u001b[43m      \u001b[49m\u001b[43mactivation\u001b[49m\u001b[38;5;241;43m=\u001b[39;49m\u001b[43mactivations\u001b[49m\u001b[38;5;241;43m.\u001b[39;49m\u001b[43mget\u001b[49m\u001b[43m(\u001b[49m\u001b[43mactivation\u001b[49m\u001b[43m)\u001b[49m\u001b[43m,\u001b[49m\n\u001b[1;32m    521\u001b[0m \u001b[43m      \u001b[49m\u001b[43muse_bias\u001b[49m\u001b[38;5;241;43m=\u001b[39;49m\u001b[43muse_bias\u001b[49m\u001b[43m,\u001b[49m\n\u001b[1;32m    522\u001b[0m \u001b[43m      \u001b[49m\u001b[43mkernel_initializer\u001b[49m\u001b[38;5;241;43m=\u001b[39;49m\u001b[43minitializers\u001b[49m\u001b[38;5;241;43m.\u001b[39;49m\u001b[43mget\u001b[49m\u001b[43m(\u001b[49m\u001b[43mkernel_initializer\u001b[49m\u001b[43m)\u001b[49m\u001b[43m,\u001b[49m\n\u001b[1;32m    523\u001b[0m \u001b[43m      \u001b[49m\u001b[43mbias_initializer\u001b[49m\u001b[38;5;241;43m=\u001b[39;49m\u001b[43minitializers\u001b[49m\u001b[38;5;241;43m.\u001b[39;49m\u001b[43mget\u001b[49m\u001b[43m(\u001b[49m\u001b[43mbias_initializer\u001b[49m\u001b[43m)\u001b[49m\u001b[43m,\u001b[49m\n\u001b[1;32m    524\u001b[0m \u001b[43m      \u001b[49m\u001b[43mkernel_regularizer\u001b[49m\u001b[38;5;241;43m=\u001b[39;49m\u001b[43mregularizers\u001b[49m\u001b[38;5;241;43m.\u001b[39;49m\u001b[43mget\u001b[49m\u001b[43m(\u001b[49m\u001b[43mkernel_regularizer\u001b[49m\u001b[43m)\u001b[49m\u001b[43m,\u001b[49m\n\u001b[1;32m    525\u001b[0m \u001b[43m      \u001b[49m\u001b[43mbias_regularizer\u001b[49m\u001b[38;5;241;43m=\u001b[39;49m\u001b[43mregularizers\u001b[49m\u001b[38;5;241;43m.\u001b[39;49m\u001b[43mget\u001b[49m\u001b[43m(\u001b[49m\u001b[43mbias_regularizer\u001b[49m\u001b[43m)\u001b[49m\u001b[43m,\u001b[49m\n\u001b[1;32m    526\u001b[0m \u001b[43m      \u001b[49m\u001b[43mactivity_regularizer\u001b[49m\u001b[38;5;241;43m=\u001b[39;49m\u001b[43mregularizers\u001b[49m\u001b[38;5;241;43m.\u001b[39;49m\u001b[43mget\u001b[49m\u001b[43m(\u001b[49m\u001b[43mactivity_regularizer\u001b[49m\u001b[43m)\u001b[49m\u001b[43m,\u001b[49m\n\u001b[1;32m    527\u001b[0m \u001b[43m      \u001b[49m\u001b[43mkernel_constraint\u001b[49m\u001b[38;5;241;43m=\u001b[39;49m\u001b[43mconstraints\u001b[49m\u001b[38;5;241;43m.\u001b[39;49m\u001b[43mget\u001b[49m\u001b[43m(\u001b[49m\u001b[43mkernel_constraint\u001b[49m\u001b[43m)\u001b[49m\u001b[43m,\u001b[49m\n\u001b[1;32m    528\u001b[0m \u001b[43m      \u001b[49m\u001b[43mbias_constraint\u001b[49m\u001b[38;5;241;43m=\u001b[39;49m\u001b[43mconstraints\u001b[49m\u001b[38;5;241;43m.\u001b[39;49m\u001b[43mget\u001b[49m\u001b[43m(\u001b[49m\u001b[43mbias_constraint\u001b[49m\u001b[43m)\u001b[49m\u001b[43m,\u001b[49m\n\u001b[1;32m    529\u001b[0m \u001b[43m      \u001b[49m\u001b[38;5;241;43m*\u001b[39;49m\u001b[38;5;241;43m*\u001b[39;49m\u001b[43mkwargs\u001b[49m\u001b[43m)\u001b[49m\n",
      "File \u001b[0;32m~/opt/anaconda3/envs/dl/lib/python3.8/site-packages/keras/layers/convolutional.py:125\u001b[0m, in \u001b[0;36mConv.__init__\u001b[0;34m(self, rank, filters, kernel_size, strides, padding, data_format, dilation_rate, groups, activation, use_bias, kernel_initializer, bias_initializer, kernel_regularizer, bias_regularizer, activity_regularizer, kernel_constraint, bias_constraint, trainable, name, conv_op, **kwargs)\u001b[0m\n\u001b[1;32m    103\u001b[0m \u001b[38;5;28;01mdef\u001b[39;00m \u001b[38;5;21m__init__\u001b[39m(\u001b[38;5;28mself\u001b[39m,\n\u001b[1;32m    104\u001b[0m              rank,\n\u001b[1;32m    105\u001b[0m              filters,\n\u001b[0;32m   (...)\u001b[0m\n\u001b[1;32m    123\u001b[0m              conv_op\u001b[38;5;241m=\u001b[39m\u001b[38;5;28;01mNone\u001b[39;00m,\n\u001b[1;32m    124\u001b[0m              \u001b[38;5;241m*\u001b[39m\u001b[38;5;241m*\u001b[39mkwargs):\n\u001b[0;32m--> 125\u001b[0m   \u001b[38;5;28;43msuper\u001b[39;49m\u001b[43m(\u001b[49m\u001b[43mConv\u001b[49m\u001b[43m,\u001b[49m\u001b[43m \u001b[49m\u001b[38;5;28;43mself\u001b[39;49m\u001b[43m)\u001b[49m\u001b[38;5;241;43m.\u001b[39;49m\u001b[38;5;21;43m__init__\u001b[39;49m\u001b[43m(\u001b[49m\n\u001b[1;32m    126\u001b[0m \u001b[43m      \u001b[49m\u001b[43mtrainable\u001b[49m\u001b[38;5;241;43m=\u001b[39;49m\u001b[43mtrainable\u001b[49m\u001b[43m,\u001b[49m\n\u001b[1;32m    127\u001b[0m \u001b[43m      \u001b[49m\u001b[43mname\u001b[49m\u001b[38;5;241;43m=\u001b[39;49m\u001b[43mname\u001b[49m\u001b[43m,\u001b[49m\n\u001b[1;32m    128\u001b[0m \u001b[43m      \u001b[49m\u001b[43mactivity_regularizer\u001b[49m\u001b[38;5;241;43m=\u001b[39;49m\u001b[43mregularizers\u001b[49m\u001b[38;5;241;43m.\u001b[39;49m\u001b[43mget\u001b[49m\u001b[43m(\u001b[49m\u001b[43mactivity_regularizer\u001b[49m\u001b[43m)\u001b[49m\u001b[43m,\u001b[49m\n\u001b[1;32m    129\u001b[0m \u001b[43m      \u001b[49m\u001b[38;5;241;43m*\u001b[39;49m\u001b[38;5;241;43m*\u001b[39;49m\u001b[43mkwargs\u001b[49m\u001b[43m)\u001b[49m\n\u001b[1;32m    130\u001b[0m   \u001b[38;5;28mself\u001b[39m\u001b[38;5;241m.\u001b[39mrank \u001b[38;5;241m=\u001b[39m rank\n\u001b[1;32m    132\u001b[0m   \u001b[38;5;28;01mif\u001b[39;00m \u001b[38;5;28misinstance\u001b[39m(filters, \u001b[38;5;28mfloat\u001b[39m):\n",
      "File \u001b[0;32m~/opt/anaconda3/envs/dl/lib/python3.8/site-packages/tensorflow/python/training/tracking/base.py:629\u001b[0m, in \u001b[0;36mno_automatic_dependency_tracking.<locals>._method_wrapper\u001b[0;34m(self, *args, **kwargs)\u001b[0m\n\u001b[1;32m    627\u001b[0m \u001b[38;5;28mself\u001b[39m\u001b[38;5;241m.\u001b[39m_self_setattr_tracking \u001b[38;5;241m=\u001b[39m \u001b[38;5;28;01mFalse\u001b[39;00m  \u001b[38;5;66;03m# pylint: disable=protected-access\u001b[39;00m\n\u001b[1;32m    628\u001b[0m \u001b[38;5;28;01mtry\u001b[39;00m:\n\u001b[0;32m--> 629\u001b[0m   result \u001b[38;5;241m=\u001b[39m \u001b[43mmethod\u001b[49m\u001b[43m(\u001b[49m\u001b[38;5;28;43mself\u001b[39;49m\u001b[43m,\u001b[49m\u001b[43m \u001b[49m\u001b[38;5;241;43m*\u001b[39;49m\u001b[43margs\u001b[49m\u001b[43m,\u001b[49m\u001b[43m \u001b[49m\u001b[38;5;241;43m*\u001b[39;49m\u001b[38;5;241;43m*\u001b[39;49m\u001b[43mkwargs\u001b[49m\u001b[43m)\u001b[49m\n\u001b[1;32m    630\u001b[0m \u001b[38;5;28;01mfinally\u001b[39;00m:\n\u001b[1;32m    631\u001b[0m   \u001b[38;5;28mself\u001b[39m\u001b[38;5;241m.\u001b[39m_self_setattr_tracking \u001b[38;5;241m=\u001b[39m previous_value  \u001b[38;5;66;03m# pylint: disable=protected-access\u001b[39;00m\n",
      "File \u001b[0;32m~/opt/anaconda3/envs/dl/lib/python3.8/site-packages/keras/engine/base_layer.py:443\u001b[0m, in \u001b[0;36mLayer.__init__\u001b[0;34m(self, trainable, name, dtype, dynamic, **kwargs)\u001b[0m\n\u001b[1;32m    441\u001b[0m     \u001b[38;5;28;01melse\u001b[39;00m:\n\u001b[1;32m    442\u001b[0m       batch_size \u001b[38;5;241m=\u001b[39m \u001b[38;5;28;01mNone\u001b[39;00m\n\u001b[0;32m--> 443\u001b[0m     batch_input_shape \u001b[38;5;241m=\u001b[39m (batch_size,) \u001b[38;5;241m+\u001b[39m \u001b[38;5;28;43mtuple\u001b[39;49m\u001b[43m(\u001b[49m\u001b[43mkwargs\u001b[49m\u001b[43m[\u001b[49m\u001b[38;5;124;43m'\u001b[39;49m\u001b[38;5;124;43minput_shape\u001b[39;49m\u001b[38;5;124;43m'\u001b[39;49m\u001b[43m]\u001b[49m\u001b[43m)\u001b[49m\n\u001b[1;32m    444\u001b[0m   \u001b[38;5;28mself\u001b[39m\u001b[38;5;241m.\u001b[39m_batch_input_shape \u001b[38;5;241m=\u001b[39m batch_input_shape\n\u001b[1;32m    446\u001b[0m \u001b[38;5;66;03m# Manage initial weight values if passed.\u001b[39;00m\n",
      "\u001b[0;31mTypeError\u001b[0m: 'int' object is not iterable"
     ]
    }
   ],
   "source": [
    "model_history = [] \n",
    "cvscores = []\n",
    "\n",
    "for i in range(len(participants)):\n",
    "    \n",
    "    pred = []\n",
    "    label = []\n",
    "    print(\"Training with part \"+str(i+1)+\" left out\")\n",
    "    num_time_periods, num_sensors, t_x, t_y, val_x, val_y = prepare_data(eye_data, i)\n",
    "    \n",
    "    results, scores, preds = fit_and_evaluate(num_time_periods, num_sensors, t_x, val_x, t_y, val_y)\n",
    "    model_history.append(results)\n",
    "    cvscores.append(scores[1] * 100)\n",
    "    pred.extend(preds)\n",
    "    label.extend(val_y) \n",
    "    pred=np.argmax(pred, axis=1)\n",
    "    #label=np.argmax(label)\n",
    "    plot_cmx(label,pred,binary=True)\n",
    "    print(\"Accuracy with Subject \"+participants_list[i]+' as test :'+str(scores[1]*100))\n",
    "    print(\"=======\"*12, end=\"\\n\\n\\n\")"
   ]
  },
  {
   "cell_type": "code",
   "execution_count": 60,
   "id": "female-nature",
   "metadata": {},
   "outputs": [
    {
     "data": {
      "text/plain": [
       "2485353    1\n",
       "2485354    1\n",
       "2485355    1\n",
       "2485356    1\n",
       "2485357    1\n",
       "          ..\n",
       "2643619    0\n",
       "2643620    0\n",
       "2643621    0\n",
       "2643622    0\n",
       "2643623    0\n",
       "Name: Eng_Class, Length: 158271, dtype: int64"
      ]
     },
     "execution_count": 60,
     "metadata": {},
     "output_type": "execute_result"
    }
   ],
   "source": []
  },
  {
   "cell_type": "code",
   "execution_count": null,
   "id": "suburban-binary",
   "metadata": {},
   "outputs": [],
   "source": []
  },
  {
   "cell_type": "code",
   "execution_count": null,
   "id": "supposed-wilderness",
   "metadata": {},
   "outputs": [],
   "source": []
  }
 ],
 "metadata": {
  "kernelspec": {
   "display_name": "Python 3",
   "language": "python",
   "name": "python3"
  },
  "language_info": {
   "codemirror_mode": {
    "name": "ipython",
    "version": 3
   },
   "file_extension": ".py",
   "mimetype": "text/x-python",
   "name": "python",
   "nbconvert_exporter": "python",
   "pygments_lexer": "ipython3",
   "version": "3.8.5"
  }
 },
 "nbformat": 4,
 "nbformat_minor": 5
}
