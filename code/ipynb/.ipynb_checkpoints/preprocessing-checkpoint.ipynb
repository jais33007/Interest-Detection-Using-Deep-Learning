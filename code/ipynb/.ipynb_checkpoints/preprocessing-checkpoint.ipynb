{
 "cells": [
  {
   "cell_type": "code",
   "execution_count": 46,
   "id": "going-waste",
   "metadata": {},
   "outputs": [
    {
     "name": "stdout",
     "output_type": "stream",
     "text": [
      "%pylab is deprecated, use %matplotlib inline and import the required libraries.\n",
      "Populating the interactive namespace from numpy and matplotlib\n"
     ]
    }
   ],
   "source": [
    "import numpy as np\n",
    "import pandas as pd\n",
    "import matplotlib.pyplot as plt\n",
    "%pylab inline\n",
    "\n",
    "import glob\n",
    "import sys\n",
    "sys.path.append(\"../lib/\")\n",
    "import eyegaze as eg"
   ]
  },
  {
   "cell_type": "code",
   "execution_count": 47,
   "id": "exposed-haven",
   "metadata": {},
   "outputs": [],
   "source": [
    "input_dir = \"../../data/input/\"\n",
    "working_dir = \"../../data/working/\"\n",
    "output_dir = \"../../data/output/\"\n",
    "savepath = \"../../data/working/feature/\"\n",
    "\n",
    "participants = [\"P01\",\"P02\",\"P03\",\"P04\",\"P05\",\"P06\",\"P07\",\"P08\",\"P09\",\n",
    "                \"P10\",\"P11\",\"P12\",\"P13\",\"P15\",\"P16\",\"P18\",\"P19\"]\n",
    "\n",
    "def v(df, column):      \n",
    "    return df[column].values\n",
    "\n",
    "def export_scanpath(participant):\n",
    "    num_paragraph = pd.read_csv(input_dir+\"paragraphs.csv\")[\"Paragraphs\"].values\n",
    "\n",
    "    for document, g in enumerate(sorted(glob.glob(input_dir+\"/%s/*/\" %participant))):\n",
    "        #print (document, g)\n",
    "        data = pd.read_csv(g + \"tobii_pro_gaze.csv\")\n",
    "        capture = pd.read_csv(g + \"capture.csv\")[\"#timestamp\"].values\n",
    "        #screenshots = len(glob.glob1(g,\"*.png\"))\n",
    "\n",
    "        paragraphs = range(2, 2 + num_paragraph[document])\n",
    "        #screenshots = range(2, 1 + screenshots)\n",
    "        #print (paragraphs)\n",
    "        \n",
    "        for paragraph, i in enumerate(paragraphs):\n",
    "            \n",
    "            try:\n",
    "                \n",
    "                gaze = data[(data[\"#timestamp\"] > capture[i-2]) & (data[\"#timestamp\"] < capture[i-1])]\n",
    "                gaze = gaze[[\"#timestamp\", \"tobii_system_timestamp\", \"gaze_x\", \"gaze_y\", \"pupil_diameter\", \"left_gaze_x\", \"left_gaze_y\", \"left_pupil\", \"right_gaze_x\", \"right_gaze_y\", \"right_pupil\"]]\n",
    "                #gaze.to_csv(working_dir+\"gaze/%s\" %participant + \"_D\"+str(document).zfill(2) +\"_p\"+str(paragraph+1) +\".csv\", index=False)\n",
    "                fx = eg.detectFixations(v(gaze, \"#timestamp\"), v(gaze, \"gaze_x\"), v(gaze, \"gaze_y\"))\n",
    "                #fx.to_csv(working_dir+\"feature/P01\"+\"_d\"+str(document).zfill(2)+\"_p\"+str(paragraph+1)+\".csv\", index=False)\n",
    "\n",
    "                eg.plotScanPath(\n",
    "                                fx[:, 1], fx[:, 2], fx[:, 3],\n",
    "                                bg_image = g+str(i).zfill(3)+\"_back.png\",\n",
    "                                save_path=output_dir+\"%s\" %participant +\"_D\"+str(document).zfill(2)+\"_p\"+str(paragraph+1)+\".png\")\n",
    "            except:\n",
    "                print(\"Error in: \", participant, document, paragraph)"
   ]
  },
  {
   "cell_type": "code",
   "execution_count": 21,
   "id": "finnish-officer",
   "metadata": {},
   "outputs": [],
   "source": [
    "#for p in participants:\n",
    "    #export_scanpath(p)"
   ]
  },
  {
   "cell_type": "code",
   "execution_count": 51,
   "id": "arranged-trash",
   "metadata": {},
   "outputs": [
    {
     "name": "stdout",
     "output_type": "stream",
     "text": [
      "Error in :  P05_D02_p3\n"
     ]
    }
   ],
   "source": [
    "#gaze feature extraction\n",
    "gaze_dir = working_dir + \"gaze/\"\n",
    "for g in (sorted(glob.glob(gaze_dir + \"*\"))):\n",
    "    \n",
    "    gaze_data = pd.read_csv(g)\n",
    "    features = eg.detectFixations(v(gaze_data, \"#timestamp\"), v(gaze_data, \"gaze_x\"), v(gaze_data, \"gaze_y\"))\n",
    "    \n",
    "    try:\n",
    "        pd.DataFrame(features).to_csv(working_dir + \"feature/\" + str(g[24:34]) + '.csv', header=['#timestamp','fixation_x','fixation_y','fixation_duration',\n",
    "                                                                                             'saccade_length','saccade_angle','saccade_velocity'])\n",
    "    except:\n",
    "        print (\"Error in : \", str(g[24:34]))"
   ]
  },
  {
   "cell_type": "code",
   "execution_count": 69,
   "id": "moderate-geology",
   "metadata": {},
   "outputs": [
    {
     "name": "stdout",
     "output_type": "stream",
     "text": [
      "Error in :  P05_D02_p3\n"
     ]
    }
   ],
   "source": [
    "#adding participant, document and paragraph Id\n",
    "feature_dir = working_dir + \"feature/\"\n",
    "for g in (sorted(glob.glob(feature_dir + \"*\"))):\n",
    "    \n",
    "    try:\n",
    "        feature_data = pd.read_csv(g)\n",
    "        feature_data.insert(loc=0, column='participant', value=g[27:30])\n",
    "        feature_data.insert(loc=1, column='document', value=g[31:34])\n",
    "        feature_data.insert(loc=2, column='paragraph', value=g[35:37])\n",
    "\n",
    "        feature_data.to_csv(working_dir + \"ft/\"+ str(g[27:37]) + '.csv', index=True)\n",
    "        \n",
    "    except:\n",
    "        print (\"Error in : \", str(g[27:37]))    "
   ]
  },
  {
   "cell_type": "code",
   "execution_count": 63,
   "id": "european-oasis",
   "metadata": {},
   "outputs": [],
   "source": [
    "# combining features from all participants\n",
    "ft_dir = working_dir + \"all_features/\"\n",
    "df_list = [pd.read_csv(feature_list, index_col=0) for feature_list in sorted(glob.glob(ft_dir + \"*\"))]\n",
    "feat_comb = pd.concat(df_list, ignore_index=True, sort=False)\n",
    "#feat_comb.drop(\"Unnamed: 0.1\",axis=1)\n",
    "feat_comb = feat_comb.loc[:, ~feat_comb.columns.str.contains('^Unnamed')]\n",
    "feat_comb.to_csv(working_dir + \"all_data.csv\")"
   ]
  },
  {
   "cell_type": "code",
   "execution_count": 137,
   "id": "controlling-ceiling",
   "metadata": {},
   "outputs": [
    {
     "name": "stderr",
     "output_type": "stream",
     "text": [
      "<ipython-input-137-61ccd78797a1>:1: FutureWarning: Indexing with multiple keys (implicitly converted to a tuple of keys) will be deprecated, use a list instead.\n",
      "  extracted_feat = feat_comb.groupby(['participant','document'])['fixation_x', 'fixation_y', 'fixation_duration',\n",
      "<ipython-input-137-61ccd78797a1>:5: FutureWarning: Indexing with multiple keys (implicitly converted to a tuple of keys) will be deprecated, use a list instead.\n",
      "  count = feat_comb.groupby(['participant','document'])['fixation_x','saccade_length'].count()\n"
     ]
    }
   ],
   "source": [
    "# gaze features extracted\n",
    "extracted_feat = feat_comb.groupby(['participant','document'])['fixation_x', 'fixation_y', 'fixation_duration',\n",
    "                                       'saccade_length', 'saccade_angle', 'saccade_velocity'].agg([np.mean,np.std,np.max,np.min]).add_prefix('').reset_index()\n",
    "extracted_feat.columns = [' '.join(col).strip() for col in extracted_feat.columns.values]\n",
    "\n",
    "count = feat_comb.groupby(['participant','document'])['fixation_x','saccade_length'].count()\n",
    "count = count.rename(columns={\"fixation_x\": \"num_fixations\", \"saccade_length\": \"num_saccades\"})\n",
    "\n",
    "all_features = pd.concat([extracted_feat, count.set_index(extracted_feat.index)], axis=1)"
   ]
  },
  {
   "cell_type": "code",
   "execution_count": 151,
   "id": "nutritional-voluntary",
   "metadata": {},
   "outputs": [],
   "source": [
    "#adding labels to the extracted features\n",
    "labels = pd.read_csv(input_dir + \"responses.csv\")\n",
    "labels = labels.drop(labels[(labels.pId == 0)].index)\n",
    "\n",
    "all_feat_label = pd.concat([all_features, labels.set_index(all_features.index)], axis=1)\n",
    "all_feat_label.to_csv(working_dir + 'combined_data.csv', index=True)"
   ]
  }
 ],
 "metadata": {
  "kernelspec": {
   "display_name": "Python 3",
   "language": "python",
   "name": "python3"
  },
  "language_info": {
   "codemirror_mode": {
    "name": "ipython",
    "version": 3
   },
   "file_extension": ".py",
   "mimetype": "text/x-python",
   "name": "python",
   "nbconvert_exporter": "python",
   "pygments_lexer": "ipython3",
   "version": "3.8.5"
  }
 },
 "nbformat": 4,
 "nbformat_minor": 5
}
