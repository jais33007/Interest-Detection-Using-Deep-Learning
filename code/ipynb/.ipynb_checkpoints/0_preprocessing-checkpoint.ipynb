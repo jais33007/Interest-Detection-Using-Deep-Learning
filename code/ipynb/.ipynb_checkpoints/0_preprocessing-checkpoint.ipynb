{
 "cells": [
  {
   "cell_type": "code",
   "execution_count": null,
   "metadata": {},
   "outputs": [
    {
     "name": "stdout",
     "output_type": "stream",
     "text": [
      "Populating the interactive namespace from numpy and matplotlib\n"
     ]
    },
    {
     "name": "stderr",
     "output_type": "stream",
     "text": [
      "/usr/local/miniconda3/lib/python3.6/site-packages/sklearn/ensemble/weight_boosting.py:29: DeprecationWarning: numpy.core.umath_tests is an internal NumPy module and should not be imported. It will be removed in a future NumPy release.\n",
      "  from numpy.core.umath_tests import inner1d\n"
     ]
    }
   ],
   "source": [
    "import numpy as np\n",
    "import pandas as pd\n",
    "import matplotlib.pyplot as plt\n",
    "%pylab inline\n",
    "\n",
    "import glob\n",
    "import shutil\n",
    "from multiprocessing import Pool\n",
    "\n",
    "import sys\n",
    "sys.path.append(\"../lib/\")\n",
    "import eyegaze as eg"
   ]
  },
  {
   "cell_type": "code",
   "execution_count": null,
   "metadata": {
    "scrolled": false
   },
   "outputs": [
    {
     "name": "stderr",
     "output_type": "stream",
     "text": [
      "../lib/eyegaze.py:83: RuntimeWarning: divide by zero encountered in true_divide\n",
      "  saccades = np.vstack((lengths, angles, np.array(lengths)/np.array(durations))).T\n",
      "/usr/local/miniconda3/lib/python3.6/site-packages/matplotlib/cbook/deprecation.py:107: MatplotlibDeprecationWarning: Passing one of 'on', 'true', 'off', 'false' as a boolean is deprecated; use an actual boolean (True/False) instead.\n",
      "  warnings.warn(message, mplDeprecation, stacklevel=1)\n",
      "../lib/eyegaze.py:83: RuntimeWarning: divide by zero encountered in true_divide\n",
      "  saccades = np.vstack((lengths, angles, np.array(lengths)/np.array(durations))).T\n",
      "/usr/local/miniconda3/lib/python3.6/site-packages/matplotlib/cbook/deprecation.py:107: MatplotlibDeprecationWarning: Passing one of 'on', 'true', 'off', 'false' as a boolean is deprecated; use an actual boolean (True/False) instead.\n",
      "  warnings.warn(message, mplDeprecation, stacklevel=1)\n",
      "/usr/local/miniconda3/lib/python3.6/site-packages/matplotlib/cbook/deprecation.py:107: MatplotlibDeprecationWarning: Passing one of 'on', 'true', 'off', 'false' as a boolean is deprecated; use an actual boolean (True/False) instead.\n",
      "  warnings.warn(message, mplDeprecation, stacklevel=1)\n",
      "/usr/local/miniconda3/lib/python3.6/site-packages/matplotlib/cbook/deprecation.py:107: MatplotlibDeprecationWarning: Passing one of 'on', 'true', 'off', 'false' as a boolean is deprecated; use an actual boolean (True/False) instead.\n",
      "  warnings.warn(message, mplDeprecation, stacklevel=1)\n",
      "../lib/eyegaze.py:83: RuntimeWarning: divide by zero encountered in true_divide\n",
      "  saccades = np.vstack((lengths, angles, np.array(lengths)/np.array(durations))).T\n",
      "../lib/eyegaze.py:83: RuntimeWarning: divide by zero encountered in true_divide\n",
      "  saccades = np.vstack((lengths, angles, np.array(lengths)/np.array(durations))).T\n"
     ]
    }
   ],
   "source": [
    "input_dir = \"../../data/input/gaze/\"\n",
    "working_dir = \"../../data/working/\"\n",
    "output_dir = \"../../data/output/\"\n",
    "\n",
    "def v(df, column):\n",
    "    return df[column].values\n",
    "\n",
    "def export_scanpath(participant):\n",
    "    num_paragraph = [3, 3, 6, 7, 4, 8, 6, 4, 4, 4, 4, 4, 5, 8, 4, 3]\n",
    "    for document, g in enumerate(sorted(glob.glob(input_dir+\"p\"+str(participant)+\"/*/\"))):\n",
    "        if document == 0:\n",
    "            continue # sample\n",
    "        data = pd.read_csv(g+\"tobii_pro_gaze.csv\")\n",
    "        captures = pd.read_csv(g+\"capture.csv\")[\"#timestamp\"].values\n",
    "        \n",
    "        if participant == 3 and document == 0:\n",
    "            paragraphs = range(4, 4 + num_paragraph[document])\n",
    "        elif participant == 5 and document == 12:\n",
    "            paragraphs = range(4, 4 + num_paragraph[document])\n",
    "        elif participant == 6 and document == 5:\n",
    "            paragraphs = [3, 4, 6, 8, 9, 10, 11, 12]\n",
    "        elif participant == 8 and document == 5:\n",
    "            paragraphs = range(4, 4 + num_paragraph[document])\n",
    "        elif participant == 8 and document == 8:\n",
    "            paragraphs = [3, 5, 6, 7]\n",
    "        elif participant == 8 and document == 9:\n",
    "            paragraphs = [3, 5, 6, 7]\n",
    "        elif participant == 8 and document == 12:\n",
    "            paragraphs = [3, 4, 5, 7, 8]\n",
    "        elif participant == 8 and document == 14:\n",
    "            paragraphs = [3, 5, 6, 7]\n",
    "        else:\n",
    "            paragraphs = range(3, 3 + num_paragraph[document])\n",
    "        \n",
    "        for paragraph, i in enumerate(paragraphs):\n",
    "            try:\n",
    "                gaze = data[\n",
    "                    (300 < data[\"gaze_y\"]) & (data[\"gaze_y\"] < 800) & (360 < data[\"gaze_x\"]) & (data[\"gaze_x\"] < 1560) &\n",
    "                    (captures[i-2] < data[\"#timestamp\"]) & (data[\"#timestamp\"] < captures[i-1])]\n",
    "                gaze = gaze[[\"#timestamp\", \"tobii_system_timestamp\", \"gaze_x\", \"gaze_y\", \"pupil_diameter\", \"left_gaze_x\", \"left_gaze_y\", \"left_pupil\", \"right_gaze_x\", \"right_gaze_y\", \"right_pupil\"]]\n",
    "                gaze.to_csv(working_dir+\"gaze/p\"+str(participant)+\"_d\"+str(document).zfill(2)+\"_p\"+str(paragraph+1)+\".csv\", index=False)\n",
    "                fx = eg.detectFixations(v(gaze, \"#timestamp\"), v(gaze, \"gaze_x\"), v(gaze, \"gaze_y\"))\n",
    "                eg.plotScanPath(\n",
    "                    fx[:, 1], fx[:, 2], fx[:, 3], \n",
    "                    bg_image=g+str(i).zfill(3)+\"_back.png\", \n",
    "                    save_path=output_dir+\"scanpath/p\"+str(participant)+\"_d\"+str(document).zfill(2)+\"_p\"+str(paragraph+1)+\".png\")\n",
    "            except:\n",
    "                print(\"Error in: \", participant, document, paragraph)\n",
    "\n",
    "pl = Pool()\n",
    "pl.map(export_scanpath, range(1, 10))\n",
    "pl.terminate()"
   ]
  },
  {
   "cell_type": "code",
   "execution_count": null,
   "metadata": {
    "collapsed": true
   },
   "outputs": [],
   "source": [
    "num_paragraph = [3, 3, 6, 7, 4, 8, 6, 4, 4, 4, 4, 4, 5, 8, 4, 3]\n",
    "for i, g in enumerate(sorted(glob.glob(\"../../data/input/gaze/p1/*/\"))):\n",
    "    for j, p in enumerate(range(3, 3 + num_paragraph[i])):\n",
    "        shutil.copyfile(g+str(p).zfill(3)+\"_back.png\", \"../../data/working/bg/d\"+str(i).zfill(2)+\"_p\"+str(j+1)+\".png\")"
   ]
  },
  {
   "cell_type": "code",
   "execution_count": null,
   "metadata": {
    "collapsed": true
   },
   "outputs": [],
   "source": []
  }
 ],
 "metadata": {
  "kernelspec": {
   "display_name": "Python 3",
   "language": "python",
   "name": "python3"
  },
  "language_info": {
   "codemirror_mode": {
    "name": "ipython",
    "version": 3
   },
   "file_extension": ".py",
   "mimetype": "text/x-python",
   "name": "python",
   "nbconvert_exporter": "python",
   "pygments_lexer": "ipython3",
   "version": "3.6.1"
  }
 },
 "nbformat": 4,
 "nbformat_minor": 2
}
